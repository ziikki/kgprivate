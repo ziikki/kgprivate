{
 "cells": [
  {
   "cell_type": "code",
   "execution_count": 114,
   "metadata": {},
   "outputs": [],
   "source": [
    "import numpy as np\n",
    "import pandas as pd\n",
    "import seaborn as sns\n",
    "import time\n",
    "import matplotlib.pyplot as plt\n",
    "%matplotlib inline"
   ]
  },
  {
   "cell_type": "code",
   "execution_count": 3,
   "metadata": {},
   "outputs": [],
   "source": [
    "from sklearn.model_selection import train_test_split\n",
    "from sklearn.preprocessing import StandardScaler\n",
    "from sklearn.preprocessing import MinMaxScaler\n",
    "from sklearn.metrics import mean_absolute_error\n",
    "\n",
    "from sklearn.model_selection import cross_val_score\n",
    "from sklearn.model_selection import KFold\n",
    "from sklearn.model_selection import GridSearchCV\n",
    "from sklearn.feature_selection import SelectKBest\n",
    "from sklearn.feature_selection import chi2\n",
    "\n",
    "from sklearn.linear_model import LinearRegression\n",
    "from sklearn.ensemble import RandomForestRegressor\n",
    "from sklearn.ensemble import GradientBoostingRegressor\n",
    "from sklearn.svm import SVR"
   ]
  },
  {
   "cell_type": "code",
   "execution_count": 4,
   "metadata": {},
   "outputs": [
    {
     "name": "stdout",
     "output_type": "stream",
     "text": [
      "data loaded\n"
     ]
    },
    {
     "data": {
      "text/html": [
       "<div>\n",
       "<style scoped>\n",
       "    .dataframe tbody tr th:only-of-type {\n",
       "        vertical-align: middle;\n",
       "    }\n",
       "\n",
       "    .dataframe tbody tr th {\n",
       "        vertical-align: top;\n",
       "    }\n",
       "\n",
       "    .dataframe thead th {\n",
       "        text-align: right;\n",
       "    }\n",
       "</style>\n",
       "<table border=\"1\" class=\"dataframe\">\n",
       "  <thead>\n",
       "    <tr style=\"text-align: right;\">\n",
       "      <th></th>\n",
       "      <th>id</th>\n",
       "      <th>cat1</th>\n",
       "      <th>cat2</th>\n",
       "      <th>cat3</th>\n",
       "      <th>cat4</th>\n",
       "      <th>cat5</th>\n",
       "      <th>cat6</th>\n",
       "      <th>cat7</th>\n",
       "      <th>cat8</th>\n",
       "      <th>cat9</th>\n",
       "      <th>...</th>\n",
       "      <th>cont6</th>\n",
       "      <th>cont7</th>\n",
       "      <th>cont8</th>\n",
       "      <th>cont9</th>\n",
       "      <th>cont10</th>\n",
       "      <th>cont11</th>\n",
       "      <th>cont12</th>\n",
       "      <th>cont13</th>\n",
       "      <th>cont14</th>\n",
       "      <th>loss</th>\n",
       "    </tr>\n",
       "  </thead>\n",
       "  <tbody>\n",
       "    <tr>\n",
       "      <th>0</th>\n",
       "      <td>0</td>\n",
       "      <td>A</td>\n",
       "      <td>A</td>\n",
       "      <td>A</td>\n",
       "      <td>A</td>\n",
       "      <td>B</td>\n",
       "      <td>A</td>\n",
       "      <td>A</td>\n",
       "      <td>A</td>\n",
       "      <td>A</td>\n",
       "      <td>...</td>\n",
       "      <td>0.669748</td>\n",
       "      <td>0.515940</td>\n",
       "      <td>0.55421</td>\n",
       "      <td>0.53774</td>\n",
       "      <td>0.47225</td>\n",
       "      <td>0.492200</td>\n",
       "      <td>0.481306</td>\n",
       "      <td>0.756454</td>\n",
       "      <td>0.344502</td>\n",
       "      <td>2152.80</td>\n",
       "    </tr>\n",
       "    <tr>\n",
       "      <th>1</th>\n",
       "      <td>1</td>\n",
       "      <td>B</td>\n",
       "      <td>A</td>\n",
       "      <td>A</td>\n",
       "      <td>A</td>\n",
       "      <td>A</td>\n",
       "      <td>B</td>\n",
       "      <td>A</td>\n",
       "      <td>A</td>\n",
       "      <td>A</td>\n",
       "      <td>...</td>\n",
       "      <td>0.484775</td>\n",
       "      <td>0.698278</td>\n",
       "      <td>0.35533</td>\n",
       "      <td>0.40657</td>\n",
       "      <td>0.40666</td>\n",
       "      <td>0.468839</td>\n",
       "      <td>0.458493</td>\n",
       "      <td>0.304350</td>\n",
       "      <td>0.470455</td>\n",
       "      <td>1019.89</td>\n",
       "    </tr>\n",
       "    <tr>\n",
       "      <th>2</th>\n",
       "      <td>2</td>\n",
       "      <td>A</td>\n",
       "      <td>A</td>\n",
       "      <td>A</td>\n",
       "      <td>B</td>\n",
       "      <td>A</td>\n",
       "      <td>A</td>\n",
       "      <td>A</td>\n",
       "      <td>A</td>\n",
       "      <td>A</td>\n",
       "      <td>...</td>\n",
       "      <td>0.350956</td>\n",
       "      <td>0.363768</td>\n",
       "      <td>0.58354</td>\n",
       "      <td>0.44352</td>\n",
       "      <td>0.39599</td>\n",
       "      <td>0.341813</td>\n",
       "      <td>0.352251</td>\n",
       "      <td>0.339244</td>\n",
       "      <td>0.283969</td>\n",
       "      <td>4477.83</td>\n",
       "    </tr>\n",
       "    <tr>\n",
       "      <th>3</th>\n",
       "      <td>3</td>\n",
       "      <td>B</td>\n",
       "      <td>A</td>\n",
       "      <td>A</td>\n",
       "      <td>A</td>\n",
       "      <td>A</td>\n",
       "      <td>B</td>\n",
       "      <td>A</td>\n",
       "      <td>A</td>\n",
       "      <td>A</td>\n",
       "      <td>...</td>\n",
       "      <td>0.748243</td>\n",
       "      <td>0.538694</td>\n",
       "      <td>0.54829</td>\n",
       "      <td>0.50420</td>\n",
       "      <td>0.51111</td>\n",
       "      <td>0.711942</td>\n",
       "      <td>0.698722</td>\n",
       "      <td>0.709578</td>\n",
       "      <td>0.776114</td>\n",
       "      <td>907.11</td>\n",
       "    </tr>\n",
       "    <tr>\n",
       "      <th>4</th>\n",
       "      <td>4</td>\n",
       "      <td>A</td>\n",
       "      <td>B</td>\n",
       "      <td>A</td>\n",
       "      <td>A</td>\n",
       "      <td>A</td>\n",
       "      <td>A</td>\n",
       "      <td>A</td>\n",
       "      <td>A</td>\n",
       "      <td>B</td>\n",
       "      <td>...</td>\n",
       "      <td>0.321058</td>\n",
       "      <td>0.326430</td>\n",
       "      <td>0.31280</td>\n",
       "      <td>0.39648</td>\n",
       "      <td>0.38016</td>\n",
       "      <td>0.245410</td>\n",
       "      <td>0.241676</td>\n",
       "      <td>0.261150</td>\n",
       "      <td>0.342082</td>\n",
       "      <td>974.62</td>\n",
       "    </tr>\n",
       "  </tbody>\n",
       "</table>\n",
       "<p>5 rows × 132 columns</p>\n",
       "</div>"
      ],
      "text/plain": [
       "   id cat1 cat2 cat3 cat4 cat5 cat6 cat7 cat8 cat9   ...        cont6  \\\n",
       "0   0    A    A    A    A    B    A    A    A    A   ...     0.669748   \n",
       "1   1    B    A    A    A    A    B    A    A    A   ...     0.484775   \n",
       "2   2    A    A    A    B    A    A    A    A    A   ...     0.350956   \n",
       "3   3    B    A    A    A    A    B    A    A    A   ...     0.748243   \n",
       "4   4    A    B    A    A    A    A    A    A    B   ...     0.321058   \n",
       "\n",
       "      cont7    cont8    cont9   cont10    cont11    cont12    cont13  \\\n",
       "0  0.515940  0.55421  0.53774  0.47225  0.492200  0.481306  0.756454   \n",
       "1  0.698278  0.35533  0.40657  0.40666  0.468839  0.458493  0.304350   \n",
       "2  0.363768  0.58354  0.44352  0.39599  0.341813  0.352251  0.339244   \n",
       "3  0.538694  0.54829  0.50420  0.51111  0.711942  0.698722  0.709578   \n",
       "4  0.326430  0.31280  0.39648  0.38016  0.245410  0.241676  0.261150   \n",
       "\n",
       "     cont14     loss  \n",
       "0  0.344502  2152.80  \n",
       "1  0.470455  1019.89  \n",
       "2  0.283969  4477.83  \n",
       "3  0.776114   907.11  \n",
       "4  0.342082   974.62  \n",
       "\n",
       "[5 rows x 132 columns]"
      ]
     },
     "execution_count": 4,
     "metadata": {},
     "output_type": "execute_result"
    }
   ],
   "source": [
    "pml = pd.read_csv('pml_train.csv')\n",
    "print('data loaded')\n",
    "pml.head()"
   ]
  },
  {
   "cell_type": "code",
   "execution_count": 5,
   "metadata": {},
   "outputs": [
    {
     "data": {
      "text/plain": [
       "(131822, 130)"
      ]
     },
     "execution_count": 5,
     "metadata": {},
     "output_type": "execute_result"
    }
   ],
   "source": [
    "pml_train_y = pml.loss\n",
    "pml_train_X = pml.drop(columns=['id', 'loss'])\n",
    "pml_train_X.shape"
   ]
  },
  {
   "cell_type": "code",
   "execution_count": 6,
   "metadata": {},
   "outputs": [
    {
     "data": {
      "text/plain": [
       "count    131822.000000\n",
       "mean       3039.973828\n",
       "std        2913.957535\n",
       "min           5.250000\n",
       "25%        1204.890000\n",
       "50%        2116.585000\n",
       "75%        3865.105000\n",
       "max      121012.250000\n",
       "Name: loss, dtype: float64"
      ]
     },
     "execution_count": 6,
     "metadata": {},
     "output_type": "execute_result"
    }
   ],
   "source": [
    "pml_train_y.describe()"
   ]
  },
  {
   "cell_type": "code",
   "execution_count": null,
   "metadata": {},
   "outputs": [],
   "source": []
  },
  {
   "cell_type": "code",
   "execution_count": 7,
   "metadata": {},
   "outputs": [
    {
     "data": {
      "text/plain": [
       "[<matplotlib.lines.Line2D at 0x10687c748>]"
      ]
     },
     "execution_count": 7,
     "metadata": {},
     "output_type": "execute_result"
    },
    {
     "data": {
      "image/png": "[encoded data removed]",
      "text/plain": [
       "<matplotlib.figure.Figure at 0x1068c9588>"
      ]
     },
     "metadata": {},
     "output_type": "display_data"
    }
   ],
   "source": [
    "plt.plot(pml_train_y.value_counts().sort_index())"
   ]
  },
  {
   "cell_type": "code",
   "execution_count": 8,
   "metadata": {},
   "outputs": [],
   "source": [
    "# idx = pml_train_y<100000\n",
    "# pml_train_y = pml_train_y[idx]\n",
    "# pml_train_X = pml_train_X[idx]"
   ]
  },
  {
   "cell_type": "code",
   "execution_count": 9,
   "metadata": {},
   "outputs": [
    {
     "data": {
      "text/plain": [
       "(131822, 130)"
      ]
     },
     "execution_count": 9,
     "metadata": {},
     "output_type": "execute_result"
    }
   ],
   "source": [
    "pml_train_X.shape"
   ]
  },
  {
   "cell_type": "code",
   "execution_count": 10,
   "metadata": {},
   "outputs": [
    {
     "data": {
      "text/plain": [
       "(131822, 1111)"
      ]
     },
     "execution_count": 10,
     "metadata": {},
     "output_type": "execute_result"
    }
   ],
   "source": [
    "pml_train_d_X = pd.get_dummies(pml_train_X)\n",
    "pml_train_d_X.shape"
   ]
  },
  {
   "cell_type": "code",
   "execution_count": 11,
   "metadata": {},
   "outputs": [
    {
     "data": {
      "text/plain": [
       "(56496, 130)"
      ]
     },
     "execution_count": 11,
     "metadata": {},
     "output_type": "execute_result"
    }
   ],
   "source": [
    "pml_test = pd.read_csv('pml_test_features.csv')\n",
    "pml_test_X = pml_test.drop(columns=['id'])\n",
    "pml_test_X.shape"
   ]
  },
  {
   "cell_type": "code",
   "execution_count": 12,
   "metadata": {},
   "outputs": [],
   "source": [
    "# # one-hot encoded test\n",
    "# pml_test_d_X = pd.get_dummies(pml_test)\n",
    "# pml_test_d_X.shape"
   ]
  },
  {
   "cell_type": "code",
   "execution_count": 13,
   "metadata": {},
   "outputs": [],
   "source": [
    "# cDrop = [c for c in pml_test_d_X.columns if c not in pml_train_d_X.columns]\n",
    "# print(cDrop)\n",
    "# pml_test_d_X.drop(columns = cDrop, inplace=True)\n",
    "\n",
    "# for c in pml_train_d_X.columns:\n",
    "#     if c not in pml_test_d_X.columns:\n",
    "#         pml_test_d_X[c] = 0\n",
    "# print(pml_test_d_X.shape)\n",
    "# pml_test_d_X.head()"
   ]
  },
  {
   "cell_type": "code",
   "execution_count": 14,
   "metadata": {},
   "outputs": [],
   "source": [
    "# pml_train_cont = pml_train_X.filter(regex=(\"cont\\d*\"))\n",
    "# pml_train_cont.head()"
   ]
  },
  {
   "cell_type": "code",
   "execution_count": 15,
   "metadata": {},
   "outputs": [],
   "source": [
    "#Generate a correlation matrix between features\n",
    "# x_corr = pml_train_cont.corr()\n",
    "# mask = np.zeros_like(x_corr, dtype=np.bool)\n",
    "# mask[np.triu_indices_from(mask)] = True\n",
    "# f, ax = plt.subplots(figsize=(11, 9))\n",
    "# cmap = sns.diverging_palette(220, 10, as_cmap=True)\n",
    "# sns.heatmap(x_corr, mask=mask, vmax=1, cmap=cmap, center=0,\n",
    "#             square=True, linewidths=.5)"
   ]
  },
  {
   "cell_type": "code",
   "execution_count": null,
   "metadata": {},
   "outputs": [],
   "source": []
  },
  {
   "cell_type": "code",
   "execution_count": 16,
   "metadata": {},
   "outputs": [],
   "source": [
    "def col_op(col):\n",
    "    return col.astype('category').cat.codes"
   ]
  },
  {
   "cell_type": "code",
   "execution_count": 17,
   "metadata": {},
   "outputs": [],
   "source": [
    "def digit_op(code):\n",
    "    num = 0\n",
    "    for alpha in code:\n",
    "        num *= 26\n",
    "        num += ord(alpha) - ord('A') + 1\n",
    "    return num\n",
    "\n",
    "def to_digit(col):\n",
    "    return col.apply(digit_op)"
   ]
  },
  {
   "cell_type": "code",
   "execution_count": 18,
   "metadata": {},
   "outputs": [
    {
     "data": {
      "text/plain": [
       "0    27\n",
       "1    54\n",
       "2     1\n",
       "dtype: int64"
      ]
     },
     "execution_count": 18,
     "metadata": {},
     "output_type": "execute_result"
    }
   ],
   "source": [
    "to_digit(pd.Series(['AA','BB','A']))"
   ]
  },
  {
   "cell_type": "code",
   "execution_count": 19,
   "metadata": {},
   "outputs": [],
   "source": [
    "def encode_X_to_digit(orig_train_X):\n",
    "    c_X = orig_train_X.copy()\n",
    "    tmp = orig_train_X.select_dtypes(exclude=['float64','int64'])\n",
    "    # tmp = pd.Categorical(tmp)\n",
    "\n",
    "    c_X.loc[:, tmp.columns] = tmp.apply(lambda col: col.astype('category').cat.codes)\n",
    "    return c_X"
   ]
  },
  {
   "cell_type": "code",
   "execution_count": 20,
   "metadata": {},
   "outputs": [
    {
     "name": "stdout",
     "output_type": "stream",
     "text": [
      "data encoded\n"
     ]
    }
   ],
   "source": [
    "# pml_train_c_X = encode_X_to_digit(pml_train_X)\n",
    "# pml_test_c_X = encode_X_to_digit(pml_test_X)\n",
    "print('data encoded')"
   ]
  },
  {
   "cell_type": "code",
   "execution_count": 21,
   "metadata": {},
   "outputs": [
    {
     "data": {
      "text/html": [
       "<div>\n",
       "<style scoped>\n",
       "    .dataframe tbody tr th:only-of-type {\n",
       "        vertical-align: middle;\n",
       "    }\n",
       "\n",
       "    .dataframe tbody tr th {\n",
       "        vertical-align: top;\n",
       "    }\n",
       "\n",
       "    .dataframe thead th {\n",
       "        text-align: right;\n",
       "    }\n",
       "</style>\n",
       "<table border=\"1\" class=\"dataframe\">\n",
       "  <thead>\n",
       "    <tr style=\"text-align: right;\">\n",
       "      <th></th>\n",
       "      <th>cat1</th>\n",
       "      <th>cat2</th>\n",
       "      <th>cat3</th>\n",
       "      <th>cat4</th>\n",
       "      <th>cat5</th>\n",
       "      <th>cat6</th>\n",
       "      <th>cat7</th>\n",
       "      <th>cat8</th>\n",
       "      <th>cat9</th>\n",
       "      <th>cat10</th>\n",
       "      <th>...</th>\n",
       "      <th>cont5</th>\n",
       "      <th>cont6</th>\n",
       "      <th>cont7</th>\n",
       "      <th>cont8</th>\n",
       "      <th>cont9</th>\n",
       "      <th>cont10</th>\n",
       "      <th>cont11</th>\n",
       "      <th>cont12</th>\n",
       "      <th>cont13</th>\n",
       "      <th>cont14</th>\n",
       "    </tr>\n",
       "  </thead>\n",
       "  <tbody>\n",
       "    <tr>\n",
       "      <th>0</th>\n",
       "      <td>0</td>\n",
       "      <td>0</td>\n",
       "      <td>0</td>\n",
       "      <td>0</td>\n",
       "      <td>1</td>\n",
       "      <td>0</td>\n",
       "      <td>0</td>\n",
       "      <td>0</td>\n",
       "      <td>0</td>\n",
       "      <td>0</td>\n",
       "      <td>...</td>\n",
       "      <td>0.577339</td>\n",
       "      <td>0.669748</td>\n",
       "      <td>0.515940</td>\n",
       "      <td>0.55421</td>\n",
       "      <td>0.53774</td>\n",
       "      <td>0.47225</td>\n",
       "      <td>0.492200</td>\n",
       "      <td>0.481306</td>\n",
       "      <td>0.756454</td>\n",
       "      <td>0.344502</td>\n",
       "    </tr>\n",
       "    <tr>\n",
       "      <th>1</th>\n",
       "      <td>1</td>\n",
       "      <td>0</td>\n",
       "      <td>0</td>\n",
       "      <td>0</td>\n",
       "      <td>0</td>\n",
       "      <td>1</td>\n",
       "      <td>0</td>\n",
       "      <td>0</td>\n",
       "      <td>0</td>\n",
       "      <td>0</td>\n",
       "      <td>...</td>\n",
       "      <td>0.281143</td>\n",
       "      <td>0.484775</td>\n",
       "      <td>0.698278</td>\n",
       "      <td>0.35533</td>\n",
       "      <td>0.40657</td>\n",
       "      <td>0.40666</td>\n",
       "      <td>0.468839</td>\n",
       "      <td>0.458493</td>\n",
       "      <td>0.304350</td>\n",
       "      <td>0.470455</td>\n",
       "    </tr>\n",
       "    <tr>\n",
       "      <th>2</th>\n",
       "      <td>0</td>\n",
       "      <td>0</td>\n",
       "      <td>0</td>\n",
       "      <td>1</td>\n",
       "      <td>0</td>\n",
       "      <td>0</td>\n",
       "      <td>0</td>\n",
       "      <td>0</td>\n",
       "      <td>0</td>\n",
       "      <td>0</td>\n",
       "      <td>...</td>\n",
       "      <td>0.499798</td>\n",
       "      <td>0.350956</td>\n",
       "      <td>0.363768</td>\n",
       "      <td>0.58354</td>\n",
       "      <td>0.44352</td>\n",
       "      <td>0.39599</td>\n",
       "      <td>0.341813</td>\n",
       "      <td>0.352251</td>\n",
       "      <td>0.339244</td>\n",
       "      <td>0.283969</td>\n",
       "    </tr>\n",
       "    <tr>\n",
       "      <th>3</th>\n",
       "      <td>1</td>\n",
       "      <td>0</td>\n",
       "      <td>0</td>\n",
       "      <td>0</td>\n",
       "      <td>0</td>\n",
       "      <td>1</td>\n",
       "      <td>0</td>\n",
       "      <td>0</td>\n",
       "      <td>0</td>\n",
       "      <td>0</td>\n",
       "      <td>...</td>\n",
       "      <td>0.281143</td>\n",
       "      <td>0.748243</td>\n",
       "      <td>0.538694</td>\n",
       "      <td>0.54829</td>\n",
       "      <td>0.50420</td>\n",
       "      <td>0.51111</td>\n",
       "      <td>0.711942</td>\n",
       "      <td>0.698722</td>\n",
       "      <td>0.709578</td>\n",
       "      <td>0.776114</td>\n",
       "    </tr>\n",
       "    <tr>\n",
       "      <th>4</th>\n",
       "      <td>0</td>\n",
       "      <td>1</td>\n",
       "      <td>0</td>\n",
       "      <td>0</td>\n",
       "      <td>0</td>\n",
       "      <td>0</td>\n",
       "      <td>0</td>\n",
       "      <td>0</td>\n",
       "      <td>1</td>\n",
       "      <td>0</td>\n",
       "      <td>...</td>\n",
       "      <td>0.491114</td>\n",
       "      <td>0.321058</td>\n",
       "      <td>0.326430</td>\n",
       "      <td>0.31280</td>\n",
       "      <td>0.39648</td>\n",
       "      <td>0.38016</td>\n",
       "      <td>0.245410</td>\n",
       "      <td>0.241676</td>\n",
       "      <td>0.261150</td>\n",
       "      <td>0.342082</td>\n",
       "    </tr>\n",
       "  </tbody>\n",
       "</table>\n",
       "<p>5 rows × 130 columns</p>\n",
       "</div>"
      ],
      "text/plain": [
       "   cat1  cat2  cat3  cat4  cat5  cat6  cat7  cat8  cat9  cat10    ...     \\\n",
       "0     0     0     0     0     1     0     0     0     0      0    ...      \n",
       "1     1     0     0     0     0     1     0     0     0      0    ...      \n",
       "2     0     0     0     1     0     0     0     0     0      0    ...      \n",
       "3     1     0     0     0     0     1     0     0     0      0    ...      \n",
       "4     0     1     0     0     0     0     0     0     1      0    ...      \n",
       "\n",
       "      cont5     cont6     cont7    cont8    cont9   cont10    cont11  \\\n",
       "0  0.577339  0.669748  0.515940  0.55421  0.53774  0.47225  0.492200   \n",
       "1  0.281143  0.484775  0.698278  0.35533  0.40657  0.40666  0.468839   \n",
       "2  0.499798  0.350956  0.363768  0.58354  0.44352  0.39599  0.341813   \n",
       "3  0.281143  0.748243  0.538694  0.54829  0.50420  0.51111  0.711942   \n",
       "4  0.491114  0.321058  0.326430  0.31280  0.39648  0.38016  0.245410   \n",
       "\n",
       "     cont12    cont13    cont14  \n",
       "0  0.481306  0.756454  0.344502  \n",
       "1  0.458493  0.304350  0.470455  \n",
       "2  0.352251  0.339244  0.283969  \n",
       "3  0.698722  0.709578  0.776114  \n",
       "4  0.241676  0.261150  0.342082  \n",
       "\n",
       "[5 rows x 130 columns]"
      ]
     },
     "execution_count": 21,
     "metadata": {},
     "output_type": "execute_result"
    }
   ],
   "source": [
    "pml_train_c_X.head()"
   ]
  },
  {
   "cell_type": "code",
   "execution_count": 22,
   "metadata": {},
   "outputs": [],
   "source": [
    "# #Generate a correlation matrix between features\n",
    "# x_corr = pml_train_c_X.corr()\n",
    "# mask = np.zeros_like(x_corr, dtype=np.bool)\n",
    "# mask[np.triu_indices_from(mask)] = True\n",
    "# f, ax = plt.subplots(figsize=(22, 18))\n",
    "# cmap = sns.diverging_palette(220, 10, as_cmap=True)\n",
    "# sns.heatmap(x_corr, mask=mask, vmax=1, cmap=cmap, center=0,\n",
    "#             square=True, linewidths=.5)"
   ]
  },
  {
   "cell_type": "code",
   "execution_count": 23,
   "metadata": {},
   "outputs": [],
   "source": [
    "# # standardization\n",
    "# scaler = preprocessing.StandardScaler()\n",
    "# pml_train_c_X = scaler.transform(pml_train_c_X)\n",
    "# pml_test_c_X = scaler.transform(pml_test_c_X)\n",
    "\n",
    "# pml_test_c_X.shape"
   ]
  },
  {
   "cell_type": "code",
   "execution_count": 24,
   "metadata": {},
   "outputs": [
    {
     "name": "stdout",
     "output_type": "stream",
     "text": [
      "(56496, 130)\n"
     ]
    }
   ],
   "source": [
    "# normalize\n",
    "normalizer = MinMaxScaler().fit(pml_train_c_X)\n",
    "pml_train_c_X = normalizer.transform(pml_train_c_X)\n",
    "pml_test_c_X = normalizer.transform(pml_test_c_X)\n",
    "\n",
    "print(pml_test_c_X.shape)"
   ]
  },
  {
   "cell_type": "code",
   "execution_count": 25,
   "metadata": {},
   "outputs": [],
   "source": [
    "# kBest = SelectKBest( k=50)\n",
    "# pml_train_sfs_X = kBest.fit_transform(pml_train_c_X, pml_train_y)\n",
    "# pml_test_sfs_X = kBest.transform(pml_test_c_X)"
   ]
  },
  {
   "cell_type": "code",
   "execution_count": 26,
   "metadata": {},
   "outputs": [],
   "source": [
    "# pml_test_sfs_X.shape"
   ]
  },
  {
   "cell_type": "code",
   "execution_count": 27,
   "metadata": {},
   "outputs": [
    {
     "name": "stdout",
     "output_type": "stream",
     "text": [
      "data prep finished\n"
     ]
    }
   ],
   "source": [
    "# test/train split\n",
    "split_train_X = pml_train_c_X\n",
    "split_test_X = pml_test_c_X\n",
    "val_train_X, val_test_X, val_train_y, val_test_y = train_test_split(split_train_X, pml_train_y, random_state=2018, test_size=0.05)\n",
    "print('data prep finished')"
   ]
  },
  {
   "cell_type": "code",
   "execution_count": 90,
   "metadata": {},
   "outputs": [],
   "source": [
    "# pipeline:\n",
    "def try_clf(clf, clf_name='', train_X = val_train_X, train_y = val_train_y, test_X = val_test_X, test_y = val_test_y, save_clf=False):\n",
    "    print('start training ' + clf_name )\n",
    "    start = time.time()\n",
    "    clf.fit(train_X, train_y)\n",
    "    print( str(train_X.shape) + \"data trained,\" + str(test_X.shape) + \" data tested\")\n",
    "    print('time: %.4f'% (time.time() - start))\n",
    "\n",
    "    if save_clf:\n",
    "        from sklearn.externals import joblib\n",
    "        joblib.dump(clf, '%s.pkl'%clf_name) \n",
    "#     print(clf_name + ' train :' + str(clf.score(train_X, train_y)))\n",
    "#     print(clf_name + ' test  :' + str(clf.score(test_X, test_y)))\n",
    "    print('%s train : %.4f' % (clf_name, mean_absolute_error(train_y, clf.predict(train_X))))\n",
    "    print('%s train : %.4f' % (clf_name, mean_absolute_error(test_y, clf.predict(test_X))))\n",
    "    \n",
    "    return clf"
   ]
  },
  {
   "cell_type": "code",
   "execution_count": 29,
   "metadata": {},
   "outputs": [],
   "source": [
    "def use_clf(clf, clf_name='clf', pml_X = split_test_X):\n",
    "    ans = clf.predict(pml_X)\n",
    "    filepath = 'csv/' + clf_name + '.csv'\n",
    "    pd.DataFrame({'id':pml_test['id'], \n",
    "          'loss':ans}).to_csv(filepath,index = False)\n",
    "    print('exported as ' + filepath)"
   ]
  },
  {
   "cell_type": "markdown",
   "metadata": {},
   "source": [
    "### Tuning"
   ]
  },
  {
   "cell_type": "code",
   "execution_count": 30,
   "metadata": {},
   "outputs": [],
   "source": [
    "# def tune_para_my(clf, train_X, train_y, test_X, test_y):\n",
    "#     clf = try_clf(clf, 'svr rbf',svr_train_X,  svr_train_y, svr_test_X, svr_test_y)"
   ]
  },
  {
   "cell_type": "code",
   "execution_count": 28,
   "metadata": {},
   "outputs": [],
   "source": [
    "def tune_para_cv(estimator, X, y, parameter_name ,parameters, k_fold = 10):\n",
    "    \n",
    "    from sklearn.model_selection import KFold\n",
    "    from sklearn.model_selection import GridSearchCV\n",
    "    \n",
    "    tuned_parameters = [{parameter_name: parameters}]\n",
    "    n_folds = k_fold\n",
    "\n",
    "    clf = GridSearchCV(estimator, tuned_parameters, cv=n_folds, refit=False)\n",
    "    clf.fit(X, y)\n",
    "    scores = clf.cv_results_['mean_test_score']\n",
    "    scores_std = clf.cv_results_['std_test_score']\n",
    "    plt.figure().set_size_inches(8, 6)\n",
    "\n",
    "    plt.plot(parameters, scores)\n",
    "\n",
    "    # plot error lines showing +/- std. errors of the scores\n",
    "    std_error = scores_std / np.sqrt(n_folds)\n",
    "\n",
    "    plt.plot(parameters, scores + std_error, 'b--')\n",
    "    plt.plot(parameters, scores - std_error, 'b--')\n",
    "\n",
    "    # alpha=0.2 controls the translucency of the fill color\n",
    "    #plt.fill_between(cc, scores + std_error, scores - std_error, alpha=0.2)\n",
    "\n",
    "    plt.ylabel('CV score +/- std error')\n",
    "    plt.xlabel(parameter_name)\n",
    "    plt.axhline(np.max(scores), linestyle='--', color='.5')\n",
    "    plt.xlim([parameters[0], parameters[-1]])\n",
    "\n",
    "    plt.show()\n",
    "    \n",
    "def print_cv(scores):\n",
    "    print(scores)\n",
    "    print('Mean:\\t %f' % np.mean(scores))\n",
    "    print('Var :\\t %f' % np.var(scores))"
   ]
  },
  {
   "cell_type": "code",
   "execution_count": null,
   "metadata": {},
   "outputs": [],
   "source": []
  },
  {
   "cell_type": "markdown",
   "metadata": {},
   "source": [
    "## Linear"
   ]
  },
  {
   "cell_type": "code",
   "execution_count": 33,
   "metadata": {},
   "outputs": [
    {
     "name": "stdout",
     "output_type": "stream",
     "text": [
      "start training \n",
      "(125229, 130)data trained,(6591, 130) data tested\n",
      " train :1326.9753751293504\n",
      " test :1356.9860170673007\n"
     ]
    }
   ],
   "source": [
    "lin = LinearRegression()\n",
    "lin = try_clf(lin)"
   ]
  },
  {
   "cell_type": "code",
   "execution_count": 30,
   "metadata": {},
   "outputs": [
    {
     "name": "stdout",
     "output_type": "stream",
     "text": [
      "exported as lin_default.csv\n"
     ]
    }
   ],
   "source": [
    "use_clf(lin, 'lin_default')"
   ]
  },
  {
   "cell_type": "markdown",
   "metadata": {},
   "source": [
    "## SVR"
   ]
  },
  {
   "cell_type": "code",
   "execution_count": 37,
   "metadata": {},
   "outputs": [],
   "source": [
    "svr_X = pml_train_c_X\n",
    "svr_y = pml_train_y\n",
    "pml_svr_test_X = pml_test_c_X\n",
    "\n",
    "# svr_train_X, svr_test_X, svr_train_y, svr_test_y = train_test_split(svr_X, svr_y, random_state=2018, test_size=0.05)"
   ]
  },
  {
   "cell_type": "code",
   "execution_count": 38,
   "metadata": {},
   "outputs": [
    {
     "name": "stderr",
     "output_type": "stream",
     "text": [
      "/usr/local/lib/python3.6/site-packages/ipykernel_launcher.py:3: FutureWarning: reshape is deprecated and will raise in a subsequent release. Please use .values.reshape(...) instead\n",
      "  This is separate from the ipykernel package so we can avoid doing imports until\n"
     ]
    }
   ],
   "source": [
    "idx = np.random.choice(svr_X.shape[0], 10000, replace=False)\n",
    "svr_X = svr_X[idx, :]\n",
    "svr_y = svr_y.reshape(-1,1)[idx, :].squeeze()"
   ]
  },
  {
   "cell_type": "code",
   "execution_count": 39,
   "metadata": {},
   "outputs": [],
   "source": [
    "svr_train_X, svr_test_X, svr_train_y, svr_test_y = train_test_split(svr_X, svr_y, random_state=2018, test_size=0.2)"
   ]
  },
  {
   "cell_type": "code",
   "execution_count": 40,
   "metadata": {},
   "outputs": [
    {
     "data": {
      "text/plain": [
       "(10000, 130)"
      ]
     },
     "execution_count": 40,
     "metadata": {},
     "output_type": "execute_result"
    }
   ],
   "source": [
    "svr_X.shape"
   ]
  },
  {
   "cell_type": "code",
   "execution_count": 68,
   "metadata": {},
   "outputs": [],
   "source": [
    "krnl = 'sigmoid'"
   ]
  },
  {
   "cell_type": "code",
   "execution_count": 69,
   "metadata": {},
   "outputs": [
    {
     "name": "stdout",
     "output_type": "stream",
     "text": [
      "start training svr_sigmoid\n",
      "(8000, 130)data trained,(2000, 130) data tested\n",
      "svr_sigmoid train :2953.998893266021\n",
      "svr_sigmoid train :3013.529886762934\n",
      "SVR(C=0.1, cache_size=300, coef0=0.0, degree=3, epsilon=0.1, gamma='auto',\n",
      "  kernel='sigmoid', max_iter=-1, shrinking=True, tol=0.001, verbose=False)\n"
     ]
    }
   ],
   "source": [
    "svr = SVR(kernel=krnl, C=0.1, cache_size=300)\n",
    "svr = try_clf(svr, 'svr_'+krnl,svr_train_X,  svr_train_y, svr_test_X, svr_test_y)\n",
    "print(svr)"
   ]
  },
  {
   "cell_type": "code",
   "execution_count": 38,
   "metadata": {},
   "outputs": [
    {
     "name": "stdout",
     "output_type": "stream",
     "text": [
      "exported as svr_default.csv\n"
     ]
    }
   ],
   "source": [
    "use_clf(svr,'svr_default',pml_svr_test_X)"
   ]
  },
  {
   "cell_type": "code",
   "execution_count": 40,
   "metadata": {},
   "outputs": [
    {
     "data": {
      "text/plain": [
       "(131822,)"
      ]
     },
     "execution_count": 40,
     "metadata": {},
     "output_type": "execute_result"
    }
   ],
   "source": [
    "pml_train_y.shape"
   ]
  },
  {
   "cell_type": "code",
   "execution_count": 61,
   "metadata": {},
   "outputs": [
    {
     "name": "stdout",
     "output_type": "stream",
     "text": [
      "------degree 4-------\n",
      "start training svr_4_degree\n",
      "(8000, 111)data trained,(2000, 111) data tested\n",
      "svr_4_degree train :3155.4533380682897\n",
      "svr_4_degree train :2955.770435222077\n",
      "exported as csv/svr_4_degree.csv\n",
      "------degree 5-------\n",
      "start training svr_5_degree\n",
      "(8000, 111)data trained,(2000, 111) data tested\n",
      "svr_5_degree train :3155.4602809414237\n",
      "svr_5_degree train :2955.777607865198\n",
      "exported as csv/svr_5_degree.csv\n"
     ]
    }
   ],
   "source": [
    "svr_degree_scores = []\n",
    "degree_range = np.arange(4,6)\n",
    "for dgr in degree_range:\n",
    "    print('------degree '+ str(dgr) +'-------')\n",
    "    clf_name = 'svr_'+str(dgr)+'_degree'\n",
    "    degree_svr = SVR(kernel=krnl, degree = dgr, C=0.1, cache_size=300)\n",
    "    degree_svr = try_clf(degree_svr, clf_name,svr_train_X,  svr_train_y, svr_test_X, svr_test_y)\n",
    "    print(degree_svr)\n",
    "    svr_degree_scores.append(mse_score(degree_svr, svr_test_X, svr_test_y))\n",
    "    use_clf(svr,clf_name,pml_svr_test_X)\n",
    "    "
   ]
  },
  {
   "cell_type": "code",
   "execution_count": 44,
   "metadata": {},
   "outputs": [
    {
     "data": {
      "text/plain": [
       "[2802.8827491366446, 2802.8827491366446, 2802.8827491366446]"
      ]
     },
     "execution_count": 44,
     "metadata": {},
     "output_type": "execute_result"
    }
   ],
   "source": [
    "best_degree = degree_range[svr_degree_scores.index(min(svr_degree_scores))]"
   ]
  },
  {
   "cell_type": "code",
   "execution_count": 41,
   "metadata": {},
   "outputs": [
    {
     "data": {
      "text/plain": [
       "array([0.00390625, 0.01104854, 0.03125   , 0.08838835, 0.25      ])"
      ]
     },
     "execution_count": 41,
     "metadata": {},
     "output_type": "execute_result"
    }
   ],
   "source": [
    "np.logspace(-8,-2,num = 5,base=2)"
   ]
  },
  {
   "cell_type": "code",
   "execution_count": 45,
   "metadata": {},
   "outputs": [
    {
     "name": "stdout",
     "output_type": "stream",
     "text": [
      "------degree 2-------\n",
      "start training svr rbf\n",
      "(9000, 111)data trained,(1000, 111) data tested\n",
      "svr rbf train :-0.10129682797310968\n",
      "svr rbf test  :-0.08693442373835603\n",
      "2803.1550472852896\n",
      "SVR(C=0.1, cache_size=300, coef0=0.0, degree=2, epsilon=0.1, gamma='auto',\n",
      "  kernel='rbf', max_iter=-1, shrinking=True, tol=0.1, verbose=False)\n",
      "exported as svr_2_degree.csv\n",
      "------degree 3-------\n",
      "start training svr rbf\n",
      "(9000, 111)data trained,(1000, 111) data tested\n",
      "svr rbf train :-0.10129682797310968\n",
      "svr rbf test  :-0.08693442373835603\n",
      "2803.1550472852896\n",
      "SVR(C=0.1, cache_size=300, coef0=0.0, degree=3, epsilon=0.1, gamma='auto',\n",
      "  kernel='rbf', max_iter=-1, shrinking=True, tol=0.1, verbose=False)\n",
      "exported as svr_3_degree.csv\n",
      "------degree 4-------\n",
      "start training svr rbf\n",
      "(9000, 111)data trained,(1000, 111) data tested\n",
      "svr rbf train :-0.10129682797310968\n",
      "svr rbf test  :-0.08693442373835603\n",
      "2803.1550472852896\n",
      "SVR(C=0.1, cache_size=300, coef0=0.0, degree=4, epsilon=0.1, gamma='auto',\n",
      "  kernel='rbf', max_iter=-1, shrinking=True, tol=0.1, verbose=False)\n",
      "exported as svr_4_degree.csv\n"
     ]
    }
   ],
   "source": [
    "svr_degree_scores = []\n",
    "degree_range = np.arange(2,5)\n",
    "for dgr in degree_range:\n",
    "    print('------degree '+ str(dgr) +'-------')\n",
    "    clf_name = 'svr_'+str(dgr)+'_degree'\n",
    "    degree_svr = SVR(kernel=krnl, degree = best_degree, C=0.1, tol = 0.1, cache_size=300)\n",
    "    degree_svr = try_clf(degree_svr, 'svr rbf',svr_train_X,  svr_train_y, svr_test_X, svr_test_y)\n",
    "    print(degree_svr)\n",
    "    svr_degree_scores.append(mse_score(degree_svr, svr_test_X, svr_test_y))\n",
    "    use_clf(svr,clf_name,pml_svr_test_X)\n",
    "    "
   ]
  },
  {
   "cell_type": "code",
   "execution_count": 47,
   "metadata": {},
   "outputs": [
    {
     "data": {
      "text/plain": [
       "[2803.1550472852896, 2803.1550472852896, 2803.1550472852896]"
      ]
     },
     "execution_count": 47,
     "metadata": {},
     "output_type": "execute_result"
    }
   ],
   "source": [
    "svr_degree_scores"
   ]
  },
  {
   "cell_type": "code",
   "execution_count": 48,
   "metadata": {},
   "outputs": [
    {
     "name": "stdout",
     "output_type": "stream",
     "text": [
      "------gamma 0.00390625-------\n",
      "start training svr_0.00390625_gamma\n",
      "(8000, 111)data trained,(2000, 111) data tested\n",
      "svr_0.00390625_gamma train :-0.10275250244694689\n",
      "svr_0.00390625_gamma test  :-0.10008809537097818\n",
      "2954.89382826394\n",
      "SVR(C=0.1, cache_size=300, coef0=0.0, degree=2, epsilon=0.1, gamma=0.00390625,\n",
      "  kernel='rbf', max_iter=-1, shrinking=True, tol=0.1, verbose=False)\n",
      "exported as svr_0.00390625_gamma.csv\n",
      "------gamma 0.011048543456039806-------\n",
      "start training svr_0.011048543456039806_gamma\n",
      "(8000, 111)data trained,(2000, 111) data tested\n",
      "svr_0.011048543456039806_gamma train :-0.1018666528788843\n",
      "svr_0.011048543456039806_gamma test  :-0.0990716487142127\n",
      "2953.5283985001306\n",
      "SVR(C=0.1, cache_size=300, coef0=0.0, degree=2, epsilon=0.1,\n",
      "  gamma=0.011048543456039806, kernel='rbf', max_iter=-1, shrinking=True,\n",
      "  tol=0.1, verbose=False)\n",
      "exported as svr_0.011048543456039806_gamma.csv\n",
      "------gamma 0.03125-------\n",
      "start training svr_0.03125_gamma\n",
      "(8000, 111)data trained,(2000, 111) data tested\n",
      "svr_0.03125_gamma train :-0.09979105865532412\n",
      "svr_0.03125_gamma test  :-0.09671804869398515\n",
      "2950.364296315512\n",
      "SVR(C=0.1, cache_size=300, coef0=0.0, degree=2, epsilon=0.1, gamma=0.03125,\n",
      "  kernel='rbf', max_iter=-1, shrinking=True, tol=0.1, verbose=False)\n",
      "exported as svr_0.03125_gamma.csv\n",
      "------gamma 0.08838834764831845-------\n",
      "start training svr_0.08838834764831845_gamma\n",
      "(8000, 111)data trained,(2000, 111) data tested\n",
      "svr_0.08838834764831845_gamma train :-0.09849118310914395\n",
      "svr_0.08838834764831845_gamma test  :-0.09520466462030819\n",
      "2948.327959011193\n",
      "SVR(C=0.1, cache_size=300, coef0=0.0, degree=2, epsilon=0.1,\n",
      "  gamma=0.08838834764831845, kernel='rbf', max_iter=-1, shrinking=True,\n",
      "  tol=0.1, verbose=False)\n",
      "exported as svr_0.08838834764831845_gamma.csv\n",
      "------gamma 0.25-------\n",
      "start training svr_0.25_gamma\n",
      "(8000, 111)data trained,(2000, 111) data tested\n",
      "svr_0.25_gamma train :-0.10054089683847334\n",
      "svr_0.25_gamma test  :-0.09759730667944844\n",
      "2951.546738620934\n",
      "SVR(C=0.1, cache_size=300, coef0=0.0, degree=2, epsilon=0.1, gamma=0.25,\n",
      "  kernel='rbf', max_iter=-1, shrinking=True, tol=0.1, verbose=False)\n",
      "exported as svr_0.25_gamma.csv\n"
     ]
    }
   ],
   "source": [
    "svr_gamma_scores = []\n",
    "gamma_range = np.logspace(-8,-2,num = 5,base=2)\n",
    "for gm in gamma_range:\n",
    "    print('------gamma '+ str(gm) +'-------')\n",
    "    clf_name = 'svr_'+str(gm)+'_gamma'\n",
    "    gm_svr = SVR(kernel=krnl, degree = 2, gamma = 0.08, C=0.1, tol = 0.1, cache_size=300)\n",
    "    gm_svr = try_clf(gm_svr, clf_name,svr_train_X,  svr_train_y, svr_test_X, svr_test_y)\n",
    "    print(gm_svr)\n",
    "    svr_gamma_scores.append(mse_score(gm_svr, svr_test_X, svr_test_y))\n",
    "    use_clf(gm_svr,clf_name,pml_svr_test_X)"
   ]
  },
  {
   "cell_type": "code",
   "execution_count": 49,
   "metadata": {},
   "outputs": [
    {
     "data": {
      "text/plain": [
       "[2954.89382826394,\n",
       " 2953.5283985001306,\n",
       " 2950.364296315512,\n",
       " 2948.327959011193,\n",
       " 2951.546738620934]"
      ]
     },
     "execution_count": 49,
     "metadata": {},
     "output_type": "execute_result"
    }
   ],
   "source": [
    "svr_gamma_scores"
   ]
  },
  {
   "cell_type": "code",
   "execution_count": 50,
   "metadata": {},
   "outputs": [],
   "source": [
    "best_gamma = gamma_range[svr_gamma_scores.index(min(svr_gamma_scores))]"
   ]
  },
  {
   "cell_type": "code",
   "execution_count": null,
   "metadata": {},
   "outputs": [],
   "source": []
  },
  {
   "cell_type": "code",
   "execution_count": null,
   "metadata": {},
   "outputs": [],
   "source": [
    "gamma_range = np.logspace(-8,-2,num = 5,base=2)\n",
    "\n",
    "clf = GridSearchCV(estimator, tuned_parameters, cv=n_folds, refit=False)\n",
    "clf.fit(X, y)\n",
    "scores = clf.cv_results_['mean_test_score']\n",
    "scores_std = clf.cv_results_['std_test_score']\n"
   ]
  },
  {
   "cell_type": "code",
   "execution_count": null,
   "metadata": {},
   "outputs": [],
   "source": []
  },
  {
   "cell_type": "code",
   "execution_count": 52,
   "metadata": {},
   "outputs": [
    {
     "name": "stdout",
     "output_type": "stream",
     "text": [
      "------final run-------\n",
      "start training tuned_svr\n",
      "(125230, 130)data trained,(6592, 130) data tested\n",
      "tuned_svr train :-0.03428160748999298\n",
      "tuned_svr test  :-0.02709801218926477\n",
      "2927.1632414645233\n",
      "exported as tuned_svr.csv\n"
     ]
    }
   ],
   "source": [
    "print('------final run-------')\n",
    "clf_name = 'tuned_svr'\n",
    "tuned_svr = SVR(kernel=krnl, degree = 2, gamma = 0.08, C=0.1, tol = 0.1, cache_size=300)\n",
    "tuned_svr = try_clf(tuned_svr, clf_name)\n",
    "use_clf(tuned_svr,clf_name)"
   ]
  },
  {
   "cell_type": "code",
   "execution_count": null,
   "metadata": {},
   "outputs": [],
   "source": [
    "# import pickle\n",
    "# s = pickle.dumps(clf)\n",
    "# clf2 = pickle.loads(s)"
   ]
  },
  {
   "cell_type": "code",
   "execution_count": 53,
   "metadata": {},
   "outputs": [
    {
     "data": {
      "text/plain": [
       "['tuned_svr.pkl']"
      ]
     },
     "execution_count": 53,
     "metadata": {},
     "output_type": "execute_result"
    }
   ],
   "source": [
    "from sklearn.externals import joblib\n",
    "joblib.dump(tuned_svr, 'tuned_svr.pkl') "
   ]
  },
  {
   "cell_type": "code",
   "execution_count": null,
   "metadata": {},
   "outputs": [],
   "source": []
  },
  {
   "cell_type": "markdown",
   "metadata": {},
   "source": [
    "## tree"
   ]
  },
  {
   "cell_type": "code",
   "execution_count": null,
   "metadata": {},
   "outputs": [],
   "source": [
    "#. ec2-spotter/fast_ai/create_vpc.sh"
   ]
  },
  {
   "cell_type": "code",
   "execution_count": null,
   "metadata": {},
   "outputs": [],
   "source": []
  },
  {
   "cell_type": "code",
   "execution_count": 32,
   "metadata": {},
   "outputs": [
    {
     "name": "stdout",
     "output_type": "stream",
     "text": [
      "start training rf\n"
     ]
    },
    {
     "name": "stderr",
     "output_type": "stream",
     "text": [
      "ERROR:root:Internal Python error in the inspect module.\n",
      "Below is the traceback from this internal error.\n",
      "\n"
     ]
    },
    {
     "name": "stdout",
     "output_type": "stream",
     "text": [
      "Traceback (most recent call last):\n",
      "  File \"/usr/local/lib/python3.6/site-packages/IPython/core/interactiveshell.py\", line 2910, in run_code\n",
      "    exec(code_obj, self.user_global_ns, self.user_ns)\n",
      "  File \"<ipython-input-32-722e557fb230>\", line 2, in <module>\n",
      "    rf = try_clf(rf, 'rf')\n",
      "  File \"<ipython-input-28-135e508d2996>\", line 4, in try_clf\n",
      "    clf.fit(train_X, train_y)\n",
      "  File \"/usr/local/lib/python3.6/site-packages/sklearn/ensemble/forest.py\", line 328, in fit\n",
      "    for i, t in enumerate(trees))\n",
      "  File \"/usr/local/lib/python3.6/site-packages/sklearn/externals/joblib/parallel.py\", line 789, in __call__\n",
      "    self.retrieve()\n",
      "  File \"/usr/local/lib/python3.6/site-packages/sklearn/externals/joblib/parallel.py\", line 699, in retrieve\n",
      "    self._output.extend(job.get(timeout=self.timeout))\n",
      "  File \"/usr/local/Cellar/python/3.6.5/Frameworks/Python.framework/Versions/3.6/lib/python3.6/multiprocessing/pool.py\", line 638, in get\n",
      "    self.wait(timeout)\n",
      "  File \"/usr/local/Cellar/python/3.6.5/Frameworks/Python.framework/Versions/3.6/lib/python3.6/multiprocessing/pool.py\", line 635, in wait\n",
      "    self._event.wait(timeout)\n",
      "  File \"/usr/local/Cellar/python/3.6.5/Frameworks/Python.framework/Versions/3.6/lib/python3.6/threading.py\", line 551, in wait\n",
      "    signaled = self._cond.wait(timeout)\n",
      "  File \"/usr/local/Cellar/python/3.6.5/Frameworks/Python.framework/Versions/3.6/lib/python3.6/threading.py\", line 295, in wait\n",
      "    waiter.acquire()\n",
      "KeyboardInterrupt\n",
      "\n",
      "During handling of the above exception, another exception occurred:\n",
      "\n",
      "Traceback (most recent call last):\n",
      "  File \"/usr/local/lib/python3.6/site-packages/IPython/core/interactiveshell.py\", line 1828, in showtraceback\n",
      "    stb = value._render_traceback_()\n",
      "AttributeError: 'KeyboardInterrupt' object has no attribute '_render_traceback_'\n",
      "\n",
      "During handling of the above exception, another exception occurred:\n",
      "\n",
      "Traceback (most recent call last):\n",
      "  File \"/usr/local/lib/python3.6/site-packages/IPython/core/ultratb.py\", line 1090, in get_records\n",
      "    return _fixed_getinnerframes(etb, number_of_lines_of_context, tb_offset)\n",
      "  File \"/usr/local/lib/python3.6/site-packages/IPython/core/ultratb.py\", line 311, in wrapped\n",
      "    return f(*args, **kwargs)\n",
      "  File \"/usr/local/lib/python3.6/site-packages/IPython/core/ultratb.py\", line 345, in _fixed_getinnerframes\n",
      "    records = fix_frame_records_filenames(inspect.getinnerframes(etb, context))\n",
      "  File \"/usr/local/Cellar/python/3.6.5/Frameworks/Python.framework/Versions/3.6/lib/python3.6/inspect.py\", line 1483, in getinnerframes\n",
      "    frameinfo = (tb.tb_frame,) + getframeinfo(tb, context)\n",
      "  File \"/usr/local/Cellar/python/3.6.5/Frameworks/Python.framework/Versions/3.6/lib/python3.6/inspect.py\", line 1441, in getframeinfo\n",
      "    filename = getsourcefile(frame) or getfile(frame)\n",
      "  File \"/usr/local/Cellar/python/3.6.5/Frameworks/Python.framework/Versions/3.6/lib/python3.6/inspect.py\", line 696, in getsourcefile\n",
      "    if getattr(getmodule(object, filename), '__loader__', None) is not None:\n",
      "  File \"/usr/local/Cellar/python/3.6.5/Frameworks/Python.framework/Versions/3.6/lib/python3.6/inspect.py\", line 733, in getmodule\n",
      "    if ismodule(module) and hasattr(module, '__file__'):\n",
      "KeyboardInterrupt\n"
     ]
    },
    {
     "ename": "KeyboardInterrupt",
     "evalue": "",
     "output_type": "error",
     "traceback": [
      "\u001b[0;31m---------------------------------------------------------------------------\u001b[0m"
     ]
    }
   ],
   "source": [
    "rf = RandomForestRegressor(n_estimators=10,  criterion = 'mae', n_jobs=3, random_state = 2018)\n",
    "rf = try_clf(rf, 'rf')"
   ]
  },
  {
   "cell_type": "code",
   "execution_count": null,
   "metadata": {},
   "outputs": [],
   "source": [
    "use_clf(rf,'rf_20tree_20maxnode')"
   ]
  },
  {
   "cell_type": "code",
   "execution_count": null,
   "metadata": {},
   "outputs": [],
   "source": [
    "rf2 = RandomForestRegressor(n_estimators=100, criterion = 'mae',\n",
    "                            max_leaf_nodes = 120, random_state = 2018)\n",
    "rf2 = try_clf(rf2, 'rf2', save_clf=True)"
   ]
  },
  {
   "cell_type": "code",
   "execution_count": null,
   "metadata": {},
   "outputs": [],
   "source": [
    "use_clf(rf2,'rf_100tree_120maxnode')"
   ]
  },
  {
   "cell_type": "code",
   "execution_count": null,
   "metadata": {},
   "outputs": [],
   "source": [
    "rf3 = RandomForestRegressor(n_estimators=30, max_leaf_nodes = 120, criterion = 'mae',\n",
    "                            min_samples_split=10, random_state = 2018)\n",
    "rf3 = try_clf(rf3, 'rf3')"
   ]
  },
  {
   "cell_type": "code",
   "execution_count": null,
   "metadata": {},
   "outputs": [],
   "source": [
    "use_clf(rf3,'rf_30tree_120maxnode')"
   ]
  },
  {
   "cell_type": "code",
   "execution_count": null,
   "metadata": {},
   "outputs": [],
   "source": [
    "temp_prd_y = rf2.predict(val_train_X)\n",
    "temp_y = val_train_y\n",
    "plt.scatter(temp_prd_y,temp_y)"
   ]
  },
  {
   "cell_type": "code",
   "execution_count": null,
   "metadata": {},
   "outputs": [],
   "source": [
    "rf3.feature_importances_ == 0"
   ]
  },
  {
   "cell_type": "code",
   "execution_count": null,
   "metadata": {},
   "outputs": [],
   "source": [
    "rf4 = RandomForestRegressor(n_estimators=50, max_leaf_nodes = 100, criterion = 'mae',\n",
    "                             min_impurity_decrease=0.1, random_state = 2018)\n",
    "rf4 = try_clf(rf4, 'rf4')"
   ]
  },
  {
   "cell_type": "code",
   "execution_count": null,
   "metadata": {},
   "outputs": [],
   "source": [
    "use_clf(rf4,'rf_50tree_100maxnode')"
   ]
  },
  {
   "cell_type": "code",
   "execution_count": null,
   "metadata": {},
   "outputs": [],
   "source": [
    "rf5 = RandomForestRegressor(n_estimators=100, criterion = 'mae',\n",
    "                            max_leaf_nodes = 120, random_state = 2018)\n",
    "rf5 = try_clf(rf5, 'rf5', save_clf=True)"
   ]
  },
  {
   "cell_type": "code",
   "execution_count": null,
   "metadata": {},
   "outputs": [],
   "source": [
    "use_clf(rf5,'rf_64tree_120maxnode')"
   ]
  },
  {
   "cell_type": "markdown",
   "metadata": {},
   "source": [
    "## "
   ]
  },
  {
   "cell_type": "code",
   "execution_count": null,
   "metadata": {},
   "outputs": [],
   "source": []
  },
  {
   "cell_type": "code",
   "execution_count": 1,
   "metadata": {},
   "outputs": [],
   "source": [
    "c = 'AB'"
   ]
  },
  {
   "cell_type": "code",
   "execution_count": null,
   "metadata": {},
   "outputs": [],
   "source": [
    "for a in reversed(c):\n",
    "    print(a)"
   ]
  },
  {
   "cell_type": "code",
   "execution_count": null,
   "metadata": {},
   "outputs": [],
   "source": [
    "temp = pd.DataFrame({'a':['A','B','C','B'],\n",
    "             'b':['DC','BD','BF','CC']})\n",
    "temp"
   ]
  },
  {
   "cell_type": "code",
   "execution_count": null,
   "metadata": {},
   "outputs": [],
   "source": [
    "def op(col):\n",
    "    return col.astype('category').cat.codes"
   ]
  },
  {
   "cell_type": "code",
   "execution_count": null,
   "metadata": {},
   "outputs": [],
   "source": [
    "# uniques = np.sort(pd.unique(temp.values.ravel()))\n",
    "# temp.apply(lambda x: x.astype('category', categories=uniques))\n",
    "\n",
    "le = LabelEncoder()\n",
    "le.fit(temp.values.flat)\n",
    "\n",
    "# Convert to digits.\n",
    "temp = temp.apply(le.transform)\n",
    "temp"
   ]
  },
  {
   "cell_type": "code",
   "execution_count": null,
   "metadata": {},
   "outputs": [],
   "source": []
  },
  {
   "cell_type": "markdown",
   "metadata": {},
   "source": [
    "## GBR"
   ]
  },
  {
   "cell_type": "code",
   "execution_count": 65,
   "metadata": {},
   "outputs": [],
   "source": []
  },
  {
   "cell_type": "code",
   "execution_count": null,
   "metadata": {},
   "outputs": [],
   "source": [
    "svr_train_X,  svr_train_y, svr_test_X, svr_test_y"
   ]
  },
  {
   "cell_type": "code",
   "execution_count": 96,
   "metadata": {},
   "outputs": [
    {
     "name": "stdout",
     "output_type": "stream",
     "text": [
      "start training gbr\n",
      "(8000, 130)data trained,(2000, 130) data tested\n",
      "time: 53.5361\n",
      "gbr train : 959.0075\n",
      "gbr train : 1224.1208\n",
      "GradientBoostingRegressor(alpha=0.9, criterion='friedman_mse', init=None,\n",
      "             learning_rate=0.03, loss='lad', max_depth=5,\n",
      "             max_features=None, max_leaf_nodes=None,\n",
      "             min_impurity_decrease=0.0, min_impurity_split=None,\n",
      "             min_samples_leaf=1, min_samples_split=2,\n",
      "             min_weight_fraction_leaf=0.0, n_estimators=800,\n",
      "             presort='auto', random_state=None, subsample=1.0, verbose=0,\n",
      "             warm_start=False)\n",
      "time: 53.7429\n"
     ]
    }
   ],
   "source": [
    "start = time.time()\n",
    "params = {'n_estimators': 800, 'max_depth': 5, \n",
    "          'learning_rate': 0.03, 'loss': 'lad'}\n",
    "gbr_test = GradientBoostingRegressor(**params)\n",
    "gbr_test = try_clf(gbr_test, 'gbr', svr_train_X,  svr_train_y, svr_test_X, svr_test_y)\n",
    "print(gbr_test)\n",
    "print('time: %.4f'% (time.time() - start))"
   ]
  },
  {
   "cell_type": "code",
   "execution_count": null,
   "metadata": {},
   "outputs": [],
   "source": [
    "#svr_depth_scores = []\n",
    "depth_range = np.arange(4,12,2)\n",
    "for dpth in depth_range:\n",
    "    print('------depth '+ str(dpth) +'-------')\n",
    "    clf_name = 'gbr_'+str(dpth)+'_depth'\n",
    "    gbr_test = GradientBoostingRegressor(n_estimators=500, max_depth=dpth, learning_rate=0.02, loss='lad')\n",
    "    gbr_test = try_clf(gbr_test, clf_name, svr_train_X,  svr_train_y, svr_test_X, svr_test_y)\n",
    "    \n",
    "    print(gbr_test)\n",
    "    # svr_degree_scores.append(mean_(gbr_test, svr_test_X, svr_test_y))\n",
    "    use_clf(gbr_test,clf_name,pml_svr_test_X)\n",
    "    "
   ]
  },
  {
   "cell_type": "code",
   "execution_count": 93,
   "metadata": {},
   "outputs": [
    {
     "name": "stdout",
     "output_type": "stream",
     "text": [
      "------depth 3-------\n",
      "start training gbr_3_depth\n",
      "(8000, 130)data trained,(2000, 130) data tested\n",
      "time: 18.3421\n",
      "gbr_3_depth train : 1155.3261\n",
      "gbr_3_depth train : 1233.4953\n",
      "GradientBoostingRegressor(alpha=0.9, criterion='friedman_mse', init=None,\n",
      "             learning_rate=0.02, loss='lad', max_depth=3,\n",
      "             max_features=None, max_leaf_nodes=None,\n",
      "             min_impurity_decrease=0.0, min_impurity_split=None,\n",
      "             min_samples_leaf=1, min_samples_split=2,\n",
      "             min_weight_fraction_leaf=0.0, n_estimators=500,\n",
      "             presort='auto', random_state=None, subsample=1.0, verbose=0,\n",
      "             warm_start=False)\n",
      "exported as csv/gbr_3_depth.csv\n",
      "------depth 4-------\n",
      "start training gbr_4_depth\n",
      "(8000, 130)data trained,(2000, 130) data tested\n",
      "time: 26.9670\n",
      "gbr_4_depth train : 1093.4542\n",
      "gbr_4_depth train : 1229.8338\n",
      "GradientBoostingRegressor(alpha=0.9, criterion='friedman_mse', init=None,\n",
      "             learning_rate=0.02, loss='lad', max_depth=4,\n",
      "             max_features=None, max_leaf_nodes=None,\n",
      "             min_impurity_decrease=0.0, min_impurity_split=None,\n",
      "             min_samples_leaf=1, min_samples_split=2,\n",
      "             min_weight_fraction_leaf=0.0, n_estimators=500,\n",
      "             presort='auto', random_state=None, subsample=1.0, verbose=0,\n",
      "             warm_start=False)\n",
      "exported as csv/gbr_4_depth.csv\n",
      "------depth 5-------\n",
      "start training gbr_5_depth\n",
      "(8000, 130)data trained,(2000, 130) data tested\n",
      "time: 37.1142\n",
      "gbr_5_depth train : 1022.0501\n",
      "gbr_5_depth train : 1230.7851\n",
      "GradientBoostingRegressor(alpha=0.9, criterion='friedman_mse', init=None,\n",
      "             learning_rate=0.02, loss='lad', max_depth=5,\n",
      "             max_features=None, max_leaf_nodes=None,\n",
      "             min_impurity_decrease=0.0, min_impurity_split=None,\n",
      "             min_samples_leaf=1, min_samples_split=2,\n",
      "             min_weight_fraction_leaf=0.0, n_estimators=500,\n",
      "             presort='auto', random_state=None, subsample=1.0, verbose=0,\n",
      "             warm_start=False)\n",
      "exported as csv/gbr_5_depth.csv\n",
      "------depth 6-------\n",
      "start training gbr_6_depth\n",
      "(8000, 130)data trained,(2000, 130) data tested\n",
      "time: 48.7822\n",
      "gbr_6_depth train : 949.8308\n",
      "gbr_6_depth train : 1231.4210\n",
      "GradientBoostingRegressor(alpha=0.9, criterion='friedman_mse', init=None,\n",
      "             learning_rate=0.02, loss='lad', max_depth=6,\n",
      "             max_features=None, max_leaf_nodes=None,\n",
      "             min_impurity_decrease=0.0, min_impurity_split=None,\n",
      "             min_samples_leaf=1, min_samples_split=2,\n",
      "             min_weight_fraction_leaf=0.0, n_estimators=500,\n",
      "             presort='auto', random_state=None, subsample=1.0, verbose=0,\n",
      "             warm_start=False)\n",
      "exported as csv/gbr_6_depth.csv\n"
     ]
    }
   ],
   "source": [
    "svr_depth_scores = []\n",
    "depth_range = np.arange(3,7)\n",
    "for dpth in depth_range:\n",
    "    print('------depth '+ str(dpth) +'-------')\n",
    "    clf_name = 'gbr_'+str(dpth)+'_depth'\n",
    "    gbr_test = GradientBoostingRegressor(n_estimators=500, max_depth=dpth, learning_rate=0.02, loss='lad')\n",
    "    gbr_test = try_clf(gbr_test, clf_name, svr_train_X,  svr_train_y, svr_test_X, svr_test_y)\n",
    "    \n",
    "    print(gbr_test)\n",
    "    # svr_degree_scores.append(mean_(gbr_test, svr_test_X, svr_test_y))\n",
    "    use_clf(gbr_test,clf_name,pml_svr_test_X)\n",
    "    "
   ]
  },
  {
   "cell_type": "code",
   "execution_count": 36,
   "metadata": {},
   "outputs": [],
   "source": [
    "def tune_gbr(estimator, X, y, parameter_name ,parameters, k_fold = 10):\n",
    "    \n",
    "    from sklearn.model_selection import KFold\n",
    "    from sklearn.model_selection import GridSearchCV\n",
    "    \n",
    "    tuned_parameters = [{parameter_name: parameters}]\n",
    "    n_folds = k_fold\n",
    "\n",
    "    clf = GridSearchCV(estimator, tuned_parameters, cv=n_folds, refit=False)\n",
    "    clf.fit(X, y)\n",
    "    scores = clf.cv_results_['mean_test_score']\n",
    "    scores_std = clf.cv_results_['std_test_score']\n",
    "    plt.figure().set_size_inches(8, 6)\n",
    "\n",
    "    plt.plot(parameters, scores)\n",
    "\n",
    "    # plot error lines showing +/- std. errors of the scores\n",
    "    std_error = scores_std / np.sqrt(n_folds)\n",
    "\n",
    "    plt.plot(parameters, scores + std_error, 'b--')\n",
    "    plt.plot(parameters, scores - std_error, 'b--')\n",
    "\n",
    "    # alpha=0.2 controls the translucency of the fill color\n",
    "    #plt.fill_between(cc, scores + std_error, scores - std_error, alpha=0.2)\n",
    "\n",
    "    plt.ylabel('CV score +/- std error')\n",
    "    plt.xlabel(parameter_name)\n",
    "    plt.axhline(np.max(scores), linestyle='--', color='.5')\n",
    "    plt.xlim([parameters[0], parameters[-1]])\n",
    "\n",
    "    plt.show()\n",
    "    \n",
    "def print_cv(scores):\n",
    "    print(scores)\n",
    "    print('Mean:\\t %f' % np.mean(scores))\n",
    "    print('Var :\\t %f' % np.var(scores))"
   ]
  },
  {
   "cell_type": "code",
   "execution_count": null,
   "metadata": {},
   "outputs": [],
   "source": []
  },
  {
   "cell_type": "code",
   "execution_count": null,
   "metadata": {},
   "outputs": [],
   "source": []
  },
  {
   "cell_type": "code",
   "execution_count": 98,
   "metadata": {},
   "outputs": [
    {
     "name": "stdout",
     "output_type": "stream",
     "text": [
      "start training gbr\n",
      "(125230, 130)data trained,(6592, 130) data tested\n",
      "time: 504.4221\n",
      "gbr train : 1182.3257\n",
      "gbr train : 1191.1955\n"
     ]
    }
   ],
   "source": [
    "params = {'n_estimators': 300, 'min_samples_split': 2, 'max_depth':4,\n",
    "          'learning_rate': 0.03, 'loss': 'lad'}\n",
    "gbr = GradientBoostingRegressor(**params)\n",
    "gbr = try_clf(gbr, 'gbr')"
   ]
  },
  {
   "cell_type": "code",
   "execution_count": 112,
   "metadata": {},
   "outputs": [
    {
     "name": "stdout",
     "output_type": "stream",
     "text": [
      "exported as csv/gbr_4depth_300estimator.csv\n"
     ]
    }
   ],
   "source": [
    "use_clf(gbr,'gbr_4depth_300estimator')"
   ]
  },
  {
   "cell_type": "code",
   "execution_count": 101,
   "metadata": {},
   "outputs": [
    {
     "name": "stdout",
     "output_type": "stream",
     "text": [
      "start training gbr\n",
      "(125230, 130)data trained,(6592, 130) data tested\n",
      "time: 787.3593\n",
      "gbr train : 1157.6460\n",
      "gbr train : 1173.0951\n"
     ]
    }
   ],
   "source": [
    "params = {'n_estimators': 500, 'min_samples_split': 2, 'max_depth':4,\n",
    "          'learning_rate': 0.03, 'loss': 'lad'}\n",
    "gbr2 = GradientBoostingRegressor(**params)\n",
    "gbr2 = try_clf(gbr2, 'gbr')"
   ]
  },
  {
   "cell_type": "code",
   "execution_count": 113,
   "metadata": {},
   "outputs": [
    {
     "name": "stdout",
     "output_type": "stream",
     "text": [
      "exported as csv/gbr_4depth_500estimator.csv\n"
     ]
    }
   ],
   "source": [
    "use_clf(gbr2,'gbr_4depth_500estimator')"
   ]
  },
  {
   "cell_type": "code",
   "execution_count": null,
   "metadata": {},
   "outputs": [],
   "source": []
  },
  {
   "cell_type": "code",
   "execution_count": null,
   "metadata": {},
   "outputs": [],
   "source": []
  },
  {
   "cell_type": "code",
   "execution_count": null,
   "metadata": {},
   "outputs": [],
   "source": []
  },
  {
   "cell_type": "code",
   "execution_count": null,
   "metadata": {},
   "outputs": [],
   "source": []
  },
  {
   "cell_type": "code",
   "execution_count": null,
   "metadata": {},
   "outputs": [],
   "source": [
    "gbr = gbr3"
   ]
  },
  {
   "cell_type": "code",
   "execution_count": 111,
   "metadata": {},
   "outputs": [
    {
     "data": {
      "text/plain": [
       "([<matplotlib.axis.YTick at 0x10d9834a8>,\n",
       "  <matplotlib.axis.YTick at 0x11122bf60>],\n",
       " <a list of 2 Text yticklabel objects>)"
      ]
     },
     "execution_count": 111,
     "metadata": {},
     "output_type": "execute_result"
    },
    {
     "data": {
      "image/png": "[encoded data removed]",
      "text/plain": [
       "<matplotlib.figure.Figure at 0x114a17898>"
      ]
     },
     "metadata": {},
     "output_type": "display_data"
    }
   ],
   "source": [
    "temp_prd_y = gbr.predict(val_train_X)[val_train_y<20000]\n",
    "temp_y = val_train_y[val_train_y<20000]\n",
    "plt.scatter(temp_prd_y,temp_y)\n",
    "plt.axis('equal')\n",
    "plt.xticks([0,20000])\n",
    "plt.yticks([0,20000])"
   ]
  },
  {
   "cell_type": "code",
   "execution_count": 104,
   "metadata": {},
   "outputs": [],
   "source": []
  },
  {
   "cell_type": "code",
   "execution_count": 105,
   "metadata": {},
   "outputs": [
    {
     "data": {
      "text/plain": [
       "Text(0,0.5,'Deviance')"
      ]
     },
     "execution_count": 105,
     "metadata": {},
     "output_type": "execute_result"
    },
    {
     "data": {
      "image/png": "[encoded data removed]",
      "text/plain": [
       "<matplotlib.figure.Figure at 0x112253eb8>"
      ]
     },
     "metadata": {},
     "output_type": "display_data"
    }
   ],
   "source": [
    "# #############################################################################\n",
    "# Plot training deviance\n",
    "\n",
    "# compute test set deviance\n",
    "test_score = np.zeros((params['n_estimators'],), dtype=np.float64)\n",
    "\n",
    "for i, y_pred in enumerate(gbr.staged_predict(val_test_X)):\n",
    "    test_score[i] = gbr.loss_(val_test_y, y_pred)\n",
    "\n",
    "plt.figure(figsize=(12, 6))\n",
    "plt.subplot(1, 2, 1)\n",
    "plt.title('Deviance')\n",
    "plt.plot(np.arange(params['n_estimators']) + 1, gbr.train_score_, 'b-',\n",
    "         label='Training Set Deviance')\n",
    "plt.plot(np.arange(params['n_estimators']) + 1, test_score, 'r-',\n",
    "         label='Test Set Deviance')\n",
    "plt.legend(loc='upper right')\n",
    "plt.xlabel('Boosting Iterations')\n",
    "plt.ylabel('Deviance')"
   ]
  },
  {
   "cell_type": "code",
   "execution_count": 106,
   "metadata": {},
   "outputs": [
    {
     "data": {
      "image/png": "[encoded data removed]",
      "text/plain": [
       "<matplotlib.figure.Figure at 0x1148ef518>"
      ]
     },
     "metadata": {},
     "output_type": "display_data"
    }
   ],
   "source": [
    "# #############################################################################\n",
    "# Plot feature importance\n",
    "feature_importance = gbr.feature_importances_\n",
    "# make importances relative to max importance\n",
    "feature_importance = 100.0 * (feature_importance / feature_importance.max())\n",
    "sorted_idx = np.argsort(feature_importance)[-30:]\n",
    "pos = np.arange(sorted_idx.shape[0]) + .5\n",
    "plt.subplot(1, 2, 2)\n",
    "plt.barh(pos, feature_importance[sorted_idx], align='center')\n",
    "plt.yticks(pos, pml_test_X.columns[sorted_idx])\n",
    "plt.xlabel('Relative Importance')\n",
    "plt.title('Variable Importance')\n",
    "plt.show()"
   ]
  },
  {
   "cell_type": "code",
   "execution_count": 54,
   "metadata": {},
   "outputs": [
    {
     "data": {
      "text/plain": [
       "array([ 64,  63,  62,  61,  60,  59,  58,  57,  55,  54,  53,  51,  50,\n",
       "        49,  48,  47,  92,  45,  65,  66,  67,  68,  91,  90,  89,  88,\n",
       "        87, 109,  85,  83,  44,  82,  77,  76,  97,  74,  73,  98,  70,\n",
       "        69,  96,  42,  46,  19,  21,  20,  41,  18,  17,  15,  14, 120,\n",
       "        13,  10,   9,   8,   7,   6,   2,   1,  12,  23,  94, 101,  36,\n",
       "        24,  33,  38,  32,  31,  35,  34,  30,  39,  29,  28,  27,  26,\n",
       "        40,  95,  16, 106, 114, 111, 107, 112, 108,   5, 123, 103, 128,\n",
       "       119, 124, 116, 105, 126,  84,  37,  81, 115, 118,  75,  25,  93,\n",
       "        72, 129, 104,  99, 125,  22, 121,   4, 113,  86,  43,  71,   3,\n",
       "       127, 122,  52,  56, 117, 110,  78,  11,  80, 102,   0, 100,  79])"
      ]
     },
     "execution_count": 54,
     "metadata": {},
     "output_type": "execute_result"
    }
   ],
   "source": [
    "sorted_idx"
   ]
  },
  {
   "cell_type": "code",
   "execution_count": 55,
   "metadata": {},
   "outputs": [
    {
     "data": {
      "text/plain": [
       "array([0.00000000e+00, 0.00000000e+00, 0.00000000e+00, 0.00000000e+00,\n",
       "       0.00000000e+00, 0.00000000e+00, 0.00000000e+00, 0.00000000e+00,\n",
       "       0.00000000e+00, 0.00000000e+00, 0.00000000e+00, 0.00000000e+00,\n",
       "       0.00000000e+00, 0.00000000e+00, 0.00000000e+00, 0.00000000e+00,\n",
       "       0.00000000e+00, 0.00000000e+00, 0.00000000e+00, 0.00000000e+00,\n",
       "       0.00000000e+00, 0.00000000e+00, 0.00000000e+00, 0.00000000e+00,\n",
       "       0.00000000e+00, 0.00000000e+00, 0.00000000e+00, 0.00000000e+00,\n",
       "       0.00000000e+00, 0.00000000e+00, 0.00000000e+00, 0.00000000e+00,\n",
       "       0.00000000e+00, 0.00000000e+00, 0.00000000e+00, 0.00000000e+00,\n",
       "       0.00000000e+00, 0.00000000e+00, 0.00000000e+00, 0.00000000e+00,\n",
       "       0.00000000e+00, 0.00000000e+00, 0.00000000e+00, 0.00000000e+00,\n",
       "       0.00000000e+00, 0.00000000e+00, 0.00000000e+00, 0.00000000e+00,\n",
       "       0.00000000e+00, 0.00000000e+00, 0.00000000e+00, 0.00000000e+00,\n",
       "       0.00000000e+00, 0.00000000e+00, 0.00000000e+00, 0.00000000e+00,\n",
       "       0.00000000e+00, 0.00000000e+00, 0.00000000e+00, 0.00000000e+00,\n",
       "       0.00000000e+00, 0.00000000e+00, 0.00000000e+00, 0.00000000e+00,\n",
       "       0.00000000e+00, 0.00000000e+00, 0.00000000e+00, 0.00000000e+00,\n",
       "       0.00000000e+00, 0.00000000e+00, 0.00000000e+00, 0.00000000e+00,\n",
       "       0.00000000e+00, 0.00000000e+00, 0.00000000e+00, 0.00000000e+00,\n",
       "       0.00000000e+00, 0.00000000e+00, 0.00000000e+00, 5.93350226e-03,\n",
       "       1.83898749e-02, 4.99016757e-02, 6.03262685e-02, 7.95553679e-02,\n",
       "       9.17563310e-02, 1.21469231e-01, 1.32592942e-01, 1.37803486e-01,\n",
       "       1.45297410e-01, 1.45912409e-01, 1.50029974e-01, 1.63897963e-01,\n",
       "       1.90388576e-01, 2.04060627e-01, 2.21370030e-01, 2.25543817e-01,\n",
       "       2.52878576e-01, 2.66325200e-01, 2.87625540e-01, 3.14444845e-01,\n",
       "       3.26524487e-01, 3.48355499e-01, 4.39940131e-01, 4.52978999e-01,\n",
       "       4.70963714e-01, 5.70475998e-01, 6.14350945e-01, 7.04661119e-01,\n",
       "       8.65050021e-01, 1.12955767e+00, 1.43795654e+00, 1.63351695e+00,\n",
       "       1.71813248e+00, 2.02344919e+00, 2.77750071e+00, 3.37908257e+00,\n",
       "       3.88803689e+00, 5.65804578e+00, 5.77779248e+00, 6.78723308e+00,\n",
       "       9.46574805e+00, 1.60697660e+01, 1.93928101e+01, 2.10461865e+01,\n",
       "       2.22687905e+01, 2.32260786e+01, 2.34284451e+01, 2.59796432e+01,\n",
       "       3.30393265e+01, 1.00000000e+02])"
      ]
     },
     "execution_count": 55,
     "metadata": {},
     "output_type": "execute_result"
    }
   ],
   "source": [
    "feature_importance[sorted_idx]"
   ]
  },
  {
   "cell_type": "code",
   "execution_count": null,
   "metadata": {},
   "outputs": [],
   "source": []
  },
  {
   "cell_type": "code",
   "execution_count": null,
   "metadata": {},
   "outputs": [],
   "source": []
  }
 ],
 "metadata": {
  "kernelspec": {
   "display_name": "Python 3",
   "language": "python",
   "name": "python3"
  },
  "language_info": {
   "codemirror_mode": {
    "name": "ipython",
    "version": 3
   },
   "file_extension": ".py",
   "mimetype": "text/x-python",
   "name": "python",
   "nbconvert_exporter": "python",
   "pygments_lexer": "ipython3",
   "version": "3.6.5"
  }
 },
 "nbformat": 4,
 "nbformat_minor": 2
}
