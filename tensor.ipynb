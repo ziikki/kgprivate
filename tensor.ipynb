{
 "cells": [
  {
   "cell_type": "code",
   "execution_count": 1,
   "metadata": {},
   "outputs": [],
   "source": [
    "import tensorflow as tf\n",
    "import numpy as np\n",
    "import pandas as pd\n",
    "import seaborn as sns\n",
    "import matplotlib.pyplot as plt\n",
    "%matplotlib inline"
   ]
  },
  {
   "cell_type": "code",
   "execution_count": 2,
   "metadata": {},
   "outputs": [
    {
     "data": {
      "text/html": [
       "<div>\n",
       "<style scoped>\n",
       "    .dataframe tbody tr th:only-of-type {\n",
       "        vertical-align: middle;\n",
       "    }\n",
       "\n",
       "    .dataframe tbody tr th {\n",
       "        vertical-align: top;\n",
       "    }\n",
       "\n",
       "    .dataframe thead th {\n",
       "        text-align: right;\n",
       "    }\n",
       "</style>\n",
       "<table border=\"1\" class=\"dataframe\">\n",
       "  <thead>\n",
       "    <tr style=\"text-align: right;\">\n",
       "      <th></th>\n",
       "      <th>id</th>\n",
       "      <th>cat1</th>\n",
       "      <th>cat2</th>\n",
       "      <th>cat3</th>\n",
       "      <th>cat4</th>\n",
       "      <th>cat5</th>\n",
       "      <th>cat6</th>\n",
       "      <th>cat7</th>\n",
       "      <th>cat8</th>\n",
       "      <th>cat9</th>\n",
       "      <th>...</th>\n",
       "      <th>cont6</th>\n",
       "      <th>cont7</th>\n",
       "      <th>cont8</th>\n",
       "      <th>cont9</th>\n",
       "      <th>cont10</th>\n",
       "      <th>cont11</th>\n",
       "      <th>cont12</th>\n",
       "      <th>cont13</th>\n",
       "      <th>cont14</th>\n",
       "      <th>loss</th>\n",
       "    </tr>\n",
       "  </thead>\n",
       "  <tbody>\n",
       "    <tr>\n",
       "      <th>0</th>\n",
       "      <td>0</td>\n",
       "      <td>A</td>\n",
       "      <td>A</td>\n",
       "      <td>A</td>\n",
       "      <td>A</td>\n",
       "      <td>B</td>\n",
       "      <td>A</td>\n",
       "      <td>A</td>\n",
       "      <td>A</td>\n",
       "      <td>A</td>\n",
       "      <td>...</td>\n",
       "      <td>0.669748</td>\n",
       "      <td>0.515940</td>\n",
       "      <td>0.55421</td>\n",
       "      <td>0.53774</td>\n",
       "      <td>0.47225</td>\n",
       "      <td>0.492200</td>\n",
       "      <td>0.481306</td>\n",
       "      <td>0.756454</td>\n",
       "      <td>0.344502</td>\n",
       "      <td>2152.80</td>\n",
       "    </tr>\n",
       "    <tr>\n",
       "      <th>1</th>\n",
       "      <td>1</td>\n",
       "      <td>B</td>\n",
       "      <td>A</td>\n",
       "      <td>A</td>\n",
       "      <td>A</td>\n",
       "      <td>A</td>\n",
       "      <td>B</td>\n",
       "      <td>A</td>\n",
       "      <td>A</td>\n",
       "      <td>A</td>\n",
       "      <td>...</td>\n",
       "      <td>0.484775</td>\n",
       "      <td>0.698278</td>\n",
       "      <td>0.35533</td>\n",
       "      <td>0.40657</td>\n",
       "      <td>0.40666</td>\n",
       "      <td>0.468839</td>\n",
       "      <td>0.458493</td>\n",
       "      <td>0.304350</td>\n",
       "      <td>0.470455</td>\n",
       "      <td>1019.89</td>\n",
       "    </tr>\n",
       "    <tr>\n",
       "      <th>2</th>\n",
       "      <td>2</td>\n",
       "      <td>A</td>\n",
       "      <td>A</td>\n",
       "      <td>A</td>\n",
       "      <td>B</td>\n",
       "      <td>A</td>\n",
       "      <td>A</td>\n",
       "      <td>A</td>\n",
       "      <td>A</td>\n",
       "      <td>A</td>\n",
       "      <td>...</td>\n",
       "      <td>0.350956</td>\n",
       "      <td>0.363768</td>\n",
       "      <td>0.58354</td>\n",
       "      <td>0.44352</td>\n",
       "      <td>0.39599</td>\n",
       "      <td>0.341813</td>\n",
       "      <td>0.352251</td>\n",
       "      <td>0.339244</td>\n",
       "      <td>0.283969</td>\n",
       "      <td>4477.83</td>\n",
       "    </tr>\n",
       "    <tr>\n",
       "      <th>3</th>\n",
       "      <td>3</td>\n",
       "      <td>B</td>\n",
       "      <td>A</td>\n",
       "      <td>A</td>\n",
       "      <td>A</td>\n",
       "      <td>A</td>\n",
       "      <td>B</td>\n",
       "      <td>A</td>\n",
       "      <td>A</td>\n",
       "      <td>A</td>\n",
       "      <td>...</td>\n",
       "      <td>0.748243</td>\n",
       "      <td>0.538694</td>\n",
       "      <td>0.54829</td>\n",
       "      <td>0.50420</td>\n",
       "      <td>0.51111</td>\n",
       "      <td>0.711942</td>\n",
       "      <td>0.698722</td>\n",
       "      <td>0.709578</td>\n",
       "      <td>0.776114</td>\n",
       "      <td>907.11</td>\n",
       "    </tr>\n",
       "    <tr>\n",
       "      <th>4</th>\n",
       "      <td>4</td>\n",
       "      <td>A</td>\n",
       "      <td>B</td>\n",
       "      <td>A</td>\n",
       "      <td>A</td>\n",
       "      <td>A</td>\n",
       "      <td>A</td>\n",
       "      <td>A</td>\n",
       "      <td>A</td>\n",
       "      <td>B</td>\n",
       "      <td>...</td>\n",
       "      <td>0.321058</td>\n",
       "      <td>0.326430</td>\n",
       "      <td>0.31280</td>\n",
       "      <td>0.39648</td>\n",
       "      <td>0.38016</td>\n",
       "      <td>0.245410</td>\n",
       "      <td>0.241676</td>\n",
       "      <td>0.261150</td>\n",
       "      <td>0.342082</td>\n",
       "      <td>974.62</td>\n",
       "    </tr>\n",
       "  </tbody>\n",
       "</table>\n",
       "<p>5 rows × 132 columns</p>\n",
       "</div>"
      ],
      "text/plain": [
       "   id cat1 cat2 cat3 cat4 cat5 cat6 cat7 cat8 cat9   ...        cont6  \\\n",
       "0   0    A    A    A    A    B    A    A    A    A   ...     0.669748   \n",
       "1   1    B    A    A    A    A    B    A    A    A   ...     0.484775   \n",
       "2   2    A    A    A    B    A    A    A    A    A   ...     0.350956   \n",
       "3   3    B    A    A    A    A    B    A    A    A   ...     0.748243   \n",
       "4   4    A    B    A    A    A    A    A    A    B   ...     0.321058   \n",
       "\n",
       "      cont7    cont8    cont9   cont10    cont11    cont12    cont13  \\\n",
       "0  0.515940  0.55421  0.53774  0.47225  0.492200  0.481306  0.756454   \n",
       "1  0.698278  0.35533  0.40657  0.40666  0.468839  0.458493  0.304350   \n",
       "2  0.363768  0.58354  0.44352  0.39599  0.341813  0.352251  0.339244   \n",
       "3  0.538694  0.54829  0.50420  0.51111  0.711942  0.698722  0.709578   \n",
       "4  0.326430  0.31280  0.39648  0.38016  0.245410  0.241676  0.261150   \n",
       "\n",
       "     cont14     loss  \n",
       "0  0.344502  2152.80  \n",
       "1  0.470455  1019.89  \n",
       "2  0.283969  4477.83  \n",
       "3  0.776114   907.11  \n",
       "4  0.342082   974.62  \n",
       "\n",
       "[5 rows x 132 columns]"
      ]
     },
     "execution_count": 2,
     "metadata": {},
     "output_type": "execute_result"
    }
   ],
   "source": [
    "pml = pd.read_csv('pml_train.csv')\n",
    "pml.head()"
   ]
  },
  {
   "cell_type": "code",
   "execution_count": 3,
   "metadata": {},
   "outputs": [
    {
     "data": {
      "text/plain": [
       "(131822, 130)"
      ]
     },
     "execution_count": 3,
     "metadata": {},
     "output_type": "execute_result"
    }
   ],
   "source": [
    "pml_train_y = pml.loss\n",
    "pml_train_X = pml.drop(columns=['id', 'loss'])\n",
    "pml_train_X.shape"
   ]
  },
  {
   "cell_type": "code",
   "execution_count": 4,
   "metadata": {},
   "outputs": [
    {
     "data": {
      "text/plain": [
       "(131822, 1111)"
      ]
     },
     "execution_count": 4,
     "metadata": {},
     "output_type": "execute_result"
    }
   ],
   "source": [
    "pml_train_d_X = pd.get_dummies(pml_train_X)\n",
    "pml_train_d_X.shape"
   ]
  },
  {
   "cell_type": "code",
   "execution_count": 5,
   "metadata": {},
   "outputs": [
    {
     "data": {
      "text/plain": [
       "(56496, 130)"
      ]
     },
     "execution_count": 5,
     "metadata": {},
     "output_type": "execute_result"
    }
   ],
   "source": [
    "pml_test = pd.read_csv('pml_test_features.csv')\n",
    "pml_test_X = pml_test.drop(columns=['id'])\n",
    "pml_test_X.shape"
   ]
  },
  {
   "cell_type": "code",
   "execution_count": 6,
   "metadata": {},
   "outputs": [
    {
     "data": {
      "text/plain": [
       "(56496, 1066)"
      ]
     },
     "execution_count": 6,
     "metadata": {},
     "output_type": "execute_result"
    }
   ],
   "source": [
    "# one-hot encoded test\n",
    "pml_test_d_X = pd.get_dummies(pml_test)\n",
    "pml_test_d_X.shape"
   ]
  },
  {
   "cell_type": "code",
   "execution_count": 7,
   "metadata": {},
   "outputs": [
    {
     "name": "stdout",
     "output_type": "stream",
     "text": [
      "['id', 'cat75_C', 'cat89_H', 'cat92_F', 'cat99_O', 'cat101_H', 'cat102_H', 'cat103_N', 'cat105_T', 'cat107_S', 'cat109_AG', 'cat109_BF', 'cat109_BT', 'cat109_BV', 'cat109_CB', 'cat109_J', 'cat110_AS', 'cat110_BD', 'cat110_BK', 'cat110_BM', 'cat110_CB', 'cat110_DV', 'cat113_P', 'cat114_G', 'cat116_AH', 'cat116_AM', 'cat116_AN', 'cat116_AP', 'cat116_AT', 'cat116_EQ', 'cat116_EV', 'cat116_FI', 'cat116_FJ', 'cat116_FN', 'cat116_FO', 'cat116_HU', 'cat116_IO', 'cat116_IV', 'cat116_J', 'cat116_JA', 'cat116_JI', 'cat116_JN', 'cat116_MB']\n",
      "(56496, 1111)\n"
     ]
    },
    {
     "data": {
      "text/html": [
       "<div>\n",
       "<style scoped>\n",
       "    .dataframe tbody tr th:only-of-type {\n",
       "        vertical-align: middle;\n",
       "    }\n",
       "\n",
       "    .dataframe tbody tr th {\n",
       "        vertical-align: top;\n",
       "    }\n",
       "\n",
       "    .dataframe thead th {\n",
       "        text-align: right;\n",
       "    }\n",
       "</style>\n",
       "<table border=\"1\" class=\"dataframe\">\n",
       "  <thead>\n",
       "    <tr style=\"text-align: right;\">\n",
       "      <th></th>\n",
       "      <th>cont1</th>\n",
       "      <th>cont2</th>\n",
       "      <th>cont3</th>\n",
       "      <th>cont4</th>\n",
       "      <th>cont5</th>\n",
       "      <th>cont6</th>\n",
       "      <th>cont7</th>\n",
       "      <th>cont8</th>\n",
       "      <th>cont9</th>\n",
       "      <th>cont10</th>\n",
       "      <th>...</th>\n",
       "      <th>cat116_MH</th>\n",
       "      <th>cat116_MS</th>\n",
       "      <th>cat116_MT</th>\n",
       "      <th>cat116_MV</th>\n",
       "      <th>cat116_O</th>\n",
       "      <th>cat116_Q</th>\n",
       "      <th>cat116_R</th>\n",
       "      <th>cat116_S</th>\n",
       "      <th>cat116_V</th>\n",
       "      <th>cat116_W</th>\n",
       "    </tr>\n",
       "  </thead>\n",
       "  <tbody>\n",
       "    <tr>\n",
       "      <th>0</th>\n",
       "      <td>0.474338</td>\n",
       "      <td>0.488789</td>\n",
       "      <td>0.634224</td>\n",
       "      <td>0.844287</td>\n",
       "      <td>0.491114</td>\n",
       "      <td>0.417611</td>\n",
       "      <td>0.347261</td>\n",
       "      <td>0.58354</td>\n",
       "      <td>0.50630</td>\n",
       "      <td>0.39068</td>\n",
       "      <td>...</td>\n",
       "      <td>0</td>\n",
       "      <td>0</td>\n",
       "      <td>0</td>\n",
       "      <td>0</td>\n",
       "      <td>0</td>\n",
       "      <td>0</td>\n",
       "      <td>0</td>\n",
       "      <td>0</td>\n",
       "      <td>0</td>\n",
       "      <td>0</td>\n",
       "    </tr>\n",
       "    <tr>\n",
       "      <th>1</th>\n",
       "      <td>0.907272</td>\n",
       "      <td>0.737068</td>\n",
       "      <td>0.336963</td>\n",
       "      <td>0.738221</td>\n",
       "      <td>0.380560</td>\n",
       "      <td>0.843479</td>\n",
       "      <td>0.502621</td>\n",
       "      <td>0.94403</td>\n",
       "      <td>0.93383</td>\n",
       "      <td>0.83510</td>\n",
       "      <td>...</td>\n",
       "      <td>0</td>\n",
       "      <td>0</td>\n",
       "      <td>0</td>\n",
       "      <td>0</td>\n",
       "      <td>0</td>\n",
       "      <td>0</td>\n",
       "      <td>0</td>\n",
       "      <td>0</td>\n",
       "      <td>0</td>\n",
       "      <td>0</td>\n",
       "    </tr>\n",
       "    <tr>\n",
       "      <th>2</th>\n",
       "      <td>0.899689</td>\n",
       "      <td>0.620805</td>\n",
       "      <td>0.484196</td>\n",
       "      <td>0.594598</td>\n",
       "      <td>0.794794</td>\n",
       "      <td>0.808958</td>\n",
       "      <td>0.478205</td>\n",
       "      <td>0.72299</td>\n",
       "      <td>0.94438</td>\n",
       "      <td>0.83510</td>\n",
       "      <td>...</td>\n",
       "      <td>0</td>\n",
       "      <td>0</td>\n",
       "      <td>0</td>\n",
       "      <td>0</td>\n",
       "      <td>0</td>\n",
       "      <td>0</td>\n",
       "      <td>0</td>\n",
       "      <td>0</td>\n",
       "      <td>0</td>\n",
       "      <td>0</td>\n",
       "    </tr>\n",
       "    <tr>\n",
       "      <th>3</th>\n",
       "      <td>0.330514</td>\n",
       "      <td>0.737068</td>\n",
       "      <td>0.613660</td>\n",
       "      <td>0.473202</td>\n",
       "      <td>0.908217</td>\n",
       "      <td>0.240069</td>\n",
       "      <td>0.283691</td>\n",
       "      <td>0.24564</td>\n",
       "      <td>0.30859</td>\n",
       "      <td>0.32446</td>\n",
       "      <td>...</td>\n",
       "      <td>0</td>\n",
       "      <td>0</td>\n",
       "      <td>0</td>\n",
       "      <td>0</td>\n",
       "      <td>0</td>\n",
       "      <td>0</td>\n",
       "      <td>0</td>\n",
       "      <td>0</td>\n",
       "      <td>0</td>\n",
       "      <td>0</td>\n",
       "    </tr>\n",
       "    <tr>\n",
       "      <th>4</th>\n",
       "      <td>0.480125</td>\n",
       "      <td>0.358319</td>\n",
       "      <td>0.484196</td>\n",
       "      <td>0.373816</td>\n",
       "      <td>0.674529</td>\n",
       "      <td>0.317735</td>\n",
       "      <td>0.362399</td>\n",
       "      <td>0.26847</td>\n",
       "      <td>0.41471</td>\n",
       "      <td>0.43919</td>\n",
       "      <td>...</td>\n",
       "      <td>0</td>\n",
       "      <td>0</td>\n",
       "      <td>0</td>\n",
       "      <td>0</td>\n",
       "      <td>0</td>\n",
       "      <td>0</td>\n",
       "      <td>0</td>\n",
       "      <td>0</td>\n",
       "      <td>0</td>\n",
       "      <td>0</td>\n",
       "    </tr>\n",
       "  </tbody>\n",
       "</table>\n",
       "<p>5 rows × 1111 columns</p>\n",
       "</div>"
      ],
      "text/plain": [
       "      cont1     cont2     cont3     cont4     cont5     cont6     cont7  \\\n",
       "0  0.474338  0.488789  0.634224  0.844287  0.491114  0.417611  0.347261   \n",
       "1  0.907272  0.737068  0.336963  0.738221  0.380560  0.843479  0.502621   \n",
       "2  0.899689  0.620805  0.484196  0.594598  0.794794  0.808958  0.478205   \n",
       "3  0.330514  0.737068  0.613660  0.473202  0.908217  0.240069  0.283691   \n",
       "4  0.480125  0.358319  0.484196  0.373816  0.674529  0.317735  0.362399   \n",
       "\n",
       "     cont8    cont9   cont10    ...     cat116_MH  cat116_MS  cat116_MT  \\\n",
       "0  0.58354  0.50630  0.39068    ...             0          0          0   \n",
       "1  0.94403  0.93383  0.83510    ...             0          0          0   \n",
       "2  0.72299  0.94438  0.83510    ...             0          0          0   \n",
       "3  0.24564  0.30859  0.32446    ...             0          0          0   \n",
       "4  0.26847  0.41471  0.43919    ...             0          0          0   \n",
       "\n",
       "   cat116_MV  cat116_O  cat116_Q  cat116_R  cat116_S  cat116_V  cat116_W  \n",
       "0          0         0         0         0         0         0         0  \n",
       "1          0         0         0         0         0         0         0  \n",
       "2          0         0         0         0         0         0         0  \n",
       "3          0         0         0         0         0         0         0  \n",
       "4          0         0         0         0         0         0         0  \n",
       "\n",
       "[5 rows x 1111 columns]"
      ]
     },
     "execution_count": 7,
     "metadata": {},
     "output_type": "execute_result"
    }
   ],
   "source": [
    "cDrop = [c for c in pml_test_d_X.columns if c not in pml_train_d_X.columns]\n",
    "print(cDrop)\n",
    "pml_test_d_X.drop(columns = cDrop, inplace=True)\n",
    "\n",
    "for c in pml_train_d_X.columns:\n",
    "    if c not in pml_test_d_X.columns:\n",
    "        pml_test_d_X[c] = 0\n",
    "print(pml_test_d_X.shape)\n",
    "pml_test_d_X.head()"
   ]
  },
  {
   "cell_type": "code",
   "execution_count": 8,
   "metadata": {},
   "outputs": [
    {
     "data": {
      "text/html": [
       "<div>\n",
       "<style scoped>\n",
       "    .dataframe tbody tr th:only-of-type {\n",
       "        vertical-align: middle;\n",
       "    }\n",
       "\n",
       "    .dataframe tbody tr th {\n",
       "        vertical-align: top;\n",
       "    }\n",
       "\n",
       "    .dataframe thead th {\n",
       "        text-align: right;\n",
       "    }\n",
       "</style>\n",
       "<table border=\"1\" class=\"dataframe\">\n",
       "  <thead>\n",
       "    <tr style=\"text-align: right;\">\n",
       "      <th></th>\n",
       "      <th>cont1</th>\n",
       "      <th>cont2</th>\n",
       "      <th>cont3</th>\n",
       "      <th>cont4</th>\n",
       "      <th>cont5</th>\n",
       "      <th>cont6</th>\n",
       "      <th>cont7</th>\n",
       "      <th>cont8</th>\n",
       "      <th>cont9</th>\n",
       "      <th>cont10</th>\n",
       "      <th>cont11</th>\n",
       "      <th>cont12</th>\n",
       "      <th>cont13</th>\n",
       "      <th>cont14</th>\n",
       "    </tr>\n",
       "  </thead>\n",
       "  <tbody>\n",
       "    <tr>\n",
       "      <th>0</th>\n",
       "      <td>0.480125</td>\n",
       "      <td>0.358319</td>\n",
       "      <td>0.215772</td>\n",
       "      <td>0.713852</td>\n",
       "      <td>0.577339</td>\n",
       "      <td>0.669748</td>\n",
       "      <td>0.515940</td>\n",
       "      <td>0.55421</td>\n",
       "      <td>0.53774</td>\n",
       "      <td>0.47225</td>\n",
       "      <td>0.492200</td>\n",
       "      <td>0.481306</td>\n",
       "      <td>0.756454</td>\n",
       "      <td>0.344502</td>\n",
       "    </tr>\n",
       "    <tr>\n",
       "      <th>1</th>\n",
       "      <td>0.351358</td>\n",
       "      <td>0.681761</td>\n",
       "      <td>0.777587</td>\n",
       "      <td>0.182950</td>\n",
       "      <td>0.281143</td>\n",
       "      <td>0.484775</td>\n",
       "      <td>0.698278</td>\n",
       "      <td>0.35533</td>\n",
       "      <td>0.40657</td>\n",
       "      <td>0.40666</td>\n",
       "      <td>0.468839</td>\n",
       "      <td>0.458493</td>\n",
       "      <td>0.304350</td>\n",
       "      <td>0.470455</td>\n",
       "    </tr>\n",
       "    <tr>\n",
       "      <th>2</th>\n",
       "      <td>0.497513</td>\n",
       "      <td>0.737068</td>\n",
       "      <td>0.549770</td>\n",
       "      <td>0.452887</td>\n",
       "      <td>0.499798</td>\n",
       "      <td>0.350956</td>\n",
       "      <td>0.363768</td>\n",
       "      <td>0.58354</td>\n",
       "      <td>0.44352</td>\n",
       "      <td>0.39599</td>\n",
       "      <td>0.341813</td>\n",
       "      <td>0.352251</td>\n",
       "      <td>0.339244</td>\n",
       "      <td>0.283969</td>\n",
       "    </tr>\n",
       "    <tr>\n",
       "      <th>3</th>\n",
       "      <td>0.452710</td>\n",
       "      <td>0.488789</td>\n",
       "      <td>0.506105</td>\n",
       "      <td>0.473202</td>\n",
       "      <td>0.281143</td>\n",
       "      <td>0.748243</td>\n",
       "      <td>0.538694</td>\n",
       "      <td>0.54829</td>\n",
       "      <td>0.50420</td>\n",
       "      <td>0.51111</td>\n",
       "      <td>0.711942</td>\n",
       "      <td>0.698722</td>\n",
       "      <td>0.709578</td>\n",
       "      <td>0.776114</td>\n",
       "    </tr>\n",
       "    <tr>\n",
       "      <th>4</th>\n",
       "      <td>0.434106</td>\n",
       "      <td>0.358319</td>\n",
       "      <td>0.419161</td>\n",
       "      <td>0.838840</td>\n",
       "      <td>0.491114</td>\n",
       "      <td>0.321058</td>\n",
       "      <td>0.326430</td>\n",
       "      <td>0.31280</td>\n",
       "      <td>0.39648</td>\n",
       "      <td>0.38016</td>\n",
       "      <td>0.245410</td>\n",
       "      <td>0.241676</td>\n",
       "      <td>0.261150</td>\n",
       "      <td>0.342082</td>\n",
       "    </tr>\n",
       "  </tbody>\n",
       "</table>\n",
       "</div>"
      ],
      "text/plain": [
       "      cont1     cont2     cont3     cont4     cont5     cont6     cont7  \\\n",
       "0  0.480125  0.358319  0.215772  0.713852  0.577339  0.669748  0.515940   \n",
       "1  0.351358  0.681761  0.777587  0.182950  0.281143  0.484775  0.698278   \n",
       "2  0.497513  0.737068  0.549770  0.452887  0.499798  0.350956  0.363768   \n",
       "3  0.452710  0.488789  0.506105  0.473202  0.281143  0.748243  0.538694   \n",
       "4  0.434106  0.358319  0.419161  0.838840  0.491114  0.321058  0.326430   \n",
       "\n",
       "     cont8    cont9   cont10    cont11    cont12    cont13    cont14  \n",
       "0  0.55421  0.53774  0.47225  0.492200  0.481306  0.756454  0.344502  \n",
       "1  0.35533  0.40657  0.40666  0.468839  0.458493  0.304350  0.470455  \n",
       "2  0.58354  0.44352  0.39599  0.341813  0.352251  0.339244  0.283969  \n",
       "3  0.54829  0.50420  0.51111  0.711942  0.698722  0.709578  0.776114  \n",
       "4  0.31280  0.39648  0.38016  0.245410  0.241676  0.261150  0.342082  "
      ]
     },
     "execution_count": 8,
     "metadata": {},
     "output_type": "execute_result"
    }
   ],
   "source": [
    "pml_train_cont = pml_train_X.filter(regex=(\"cont\\d*\"))\n",
    "pml_train_cont.head()"
   ]
  },
  {
   "cell_type": "code",
   "execution_count": 9,
   "metadata": {},
   "outputs": [
    {
     "data": {
      "text/plain": [
       "<matplotlib.axes._subplots.AxesSubplot at 0x105ca15f8>"
      ]
     },
     "execution_count": 9,
     "metadata": {},
     "output_type": "execute_result"
    },
    {
     "data": {
      "image/png": "[encoded data removed]",
      "text/plain": [
       "<matplotlib.figure.Figure at 0x116284d30>"
      ]
     },
     "metadata": {},
     "output_type": "display_data"
    }
   ],
   "source": [
    "#Generate a correlation matrix between features\n",
    "x_corr = pml_train_cont.corr()\n",
    "mask = np.zeros_like(x_corr, dtype=np.bool)\n",
    "mask[np.triu_indices_from(mask)] = True\n",
    "f, ax = plt.subplots(figsize=(11, 9))\n",
    "cmap = sns.diverging_palette(220, 10, as_cmap=True)\n",
    "sns.heatmap(x_corr, mask=mask, vmax=1, cmap=cmap, center=0,\n",
    "            square=True, linewidths=.5)"
   ]
  },
  {
   "cell_type": "code",
   "execution_count": 10,
   "metadata": {},
   "outputs": [],
   "source": [
    "pml_train_c_X = pml_train_X.copy()"
   ]
  },
  {
   "cell_type": "code",
   "execution_count": 18,
   "metadata": {},
   "outputs": [],
   "source": [
    "def col_op(col):\n",
    "    return col.astype('category').cat.codes"
   ]
  },
  {
   "cell_type": "code",
   "execution_count": 32,
   "metadata": {},
   "outputs": [],
   "source": [
    "def digit_op(code):\n",
    "    num = 0\n",
    "    for alpha in code:\n",
    "        num *= 26\n",
    "        num += ord(alpha) - ord('A') + 1\n",
    "    return num\n",
    "\n",
    "def to_digit(col):\n",
    "    return col.apply(digit_op)"
   ]
  },
  {
   "cell_type": "code",
   "execution_count": 37,
   "metadata": {},
   "outputs": [
    {
     "ename": "AttributeError",
     "evalue": "'list' object has no attribute 'apply'",
     "output_type": "error",
     "traceback": [
      "\u001b[0;31m---------------------------------------------------------------------------\u001b[0m",
      "\u001b[0;31mAttributeError\u001b[0m                            Traceback (most recent call last)",
      "\u001b[0;32m<ipython-input-37-93845e4cc063>\u001b[0m in \u001b[0;36m<module>\u001b[0;34m()\u001b[0m\n\u001b[0;32m----> 1\u001b[0;31m \u001b[0mto_digit\u001b[0m\u001b[0;34m(\u001b[0m\u001b[0;34m[\u001b[0m\u001b[0;34m'AA'\u001b[0m\u001b[0;34m,\u001b[0m\u001b[0;34m'BB'\u001b[0m\u001b[0;34m,\u001b[0m\u001b[0;34m'A'\u001b[0m\u001b[0;34m]\u001b[0m\u001b[0;34m)\u001b[0m\u001b[0;34m\u001b[0m\u001b[0m\n\u001b[0m",
      "\u001b[0;32m<ipython-input-32-acd0172a2abc>\u001b[0m in \u001b[0;36mto_digit\u001b[0;34m(col)\u001b[0m\n\u001b[1;32m      7\u001b[0m \u001b[0;34m\u001b[0m\u001b[0m\n\u001b[1;32m      8\u001b[0m \u001b[0;32mdef\u001b[0m \u001b[0mto_digit\u001b[0m\u001b[0;34m(\u001b[0m\u001b[0mcol\u001b[0m\u001b[0;34m)\u001b[0m\u001b[0;34m:\u001b[0m\u001b[0;34m\u001b[0m\u001b[0m\n\u001b[0;32m----> 9\u001b[0;31m     \u001b[0;32mreturn\u001b[0m \u001b[0mcol\u001b[0m\u001b[0;34m.\u001b[0m\u001b[0mapply\u001b[0m\u001b[0;34m(\u001b[0m\u001b[0mdigit_op\u001b[0m\u001b[0;34m)\u001b[0m\u001b[0;34m\u001b[0m\u001b[0m\n\u001b[0m",
      "\u001b[0;31mAttributeError\u001b[0m: 'list' object has no attribute 'apply'"
     ]
    }
   ],
   "source": [
    "to_digit(['AA','BB','A'])"
   ]
  },
  {
   "cell_type": "code",
   "execution_count": null,
   "metadata": {},
   "outputs": [],
   "source": []
  },
  {
   "cell_type": "code",
   "execution_count": 12,
   "metadata": {},
   "outputs": [],
   "source": [
    "tmp = pml_train_X.select_dtypes(exclude='float64')\n",
    "# tmp = pd.Categorical(tmp)\n",
    "\n",
    "pml_train_c_X.loc[:, tmp.columns] = tmp.apply(lambda col: col.astype('category').cat.codes)"
   ]
  },
  {
   "cell_type": "code",
   "execution_count": 13,
   "metadata": {},
   "outputs": [
    {
     "data": {
      "text/html": [
       "<div>\n",
       "<style scoped>\n",
       "    .dataframe tbody tr th:only-of-type {\n",
       "        vertical-align: middle;\n",
       "    }\n",
       "\n",
       "    .dataframe tbody tr th {\n",
       "        vertical-align: top;\n",
       "    }\n",
       "\n",
       "    .dataframe thead th {\n",
       "        text-align: right;\n",
       "    }\n",
       "</style>\n",
       "<table border=\"1\" class=\"dataframe\">\n",
       "  <thead>\n",
       "    <tr style=\"text-align: right;\">\n",
       "      <th></th>\n",
       "      <th>cat1</th>\n",
       "      <th>cat2</th>\n",
       "      <th>cat3</th>\n",
       "      <th>cat4</th>\n",
       "      <th>cat5</th>\n",
       "      <th>cat6</th>\n",
       "      <th>cat7</th>\n",
       "      <th>cat8</th>\n",
       "      <th>cat9</th>\n",
       "      <th>cat10</th>\n",
       "      <th>...</th>\n",
       "      <th>cont5</th>\n",
       "      <th>cont6</th>\n",
       "      <th>cont7</th>\n",
       "      <th>cont8</th>\n",
       "      <th>cont9</th>\n",
       "      <th>cont10</th>\n",
       "      <th>cont11</th>\n",
       "      <th>cont12</th>\n",
       "      <th>cont13</th>\n",
       "      <th>cont14</th>\n",
       "    </tr>\n",
       "  </thead>\n",
       "  <tbody>\n",
       "    <tr>\n",
       "      <th>0</th>\n",
       "      <td>0</td>\n",
       "      <td>0</td>\n",
       "      <td>0</td>\n",
       "      <td>0</td>\n",
       "      <td>1</td>\n",
       "      <td>0</td>\n",
       "      <td>0</td>\n",
       "      <td>0</td>\n",
       "      <td>0</td>\n",
       "      <td>0</td>\n",
       "      <td>...</td>\n",
       "      <td>0.577339</td>\n",
       "      <td>0.669748</td>\n",
       "      <td>0.515940</td>\n",
       "      <td>0.55421</td>\n",
       "      <td>0.53774</td>\n",
       "      <td>0.47225</td>\n",
       "      <td>0.492200</td>\n",
       "      <td>0.481306</td>\n",
       "      <td>0.756454</td>\n",
       "      <td>0.344502</td>\n",
       "    </tr>\n",
       "    <tr>\n",
       "      <th>1</th>\n",
       "      <td>1</td>\n",
       "      <td>0</td>\n",
       "      <td>0</td>\n",
       "      <td>0</td>\n",
       "      <td>0</td>\n",
       "      <td>1</td>\n",
       "      <td>0</td>\n",
       "      <td>0</td>\n",
       "      <td>0</td>\n",
       "      <td>0</td>\n",
       "      <td>...</td>\n",
       "      <td>0.281143</td>\n",
       "      <td>0.484775</td>\n",
       "      <td>0.698278</td>\n",
       "      <td>0.35533</td>\n",
       "      <td>0.40657</td>\n",
       "      <td>0.40666</td>\n",
       "      <td>0.468839</td>\n",
       "      <td>0.458493</td>\n",
       "      <td>0.304350</td>\n",
       "      <td>0.470455</td>\n",
       "    </tr>\n",
       "    <tr>\n",
       "      <th>2</th>\n",
       "      <td>0</td>\n",
       "      <td>0</td>\n",
       "      <td>0</td>\n",
       "      <td>1</td>\n",
       "      <td>0</td>\n",
       "      <td>0</td>\n",
       "      <td>0</td>\n",
       "      <td>0</td>\n",
       "      <td>0</td>\n",
       "      <td>0</td>\n",
       "      <td>...</td>\n",
       "      <td>0.499798</td>\n",
       "      <td>0.350956</td>\n",
       "      <td>0.363768</td>\n",
       "      <td>0.58354</td>\n",
       "      <td>0.44352</td>\n",
       "      <td>0.39599</td>\n",
       "      <td>0.341813</td>\n",
       "      <td>0.352251</td>\n",
       "      <td>0.339244</td>\n",
       "      <td>0.283969</td>\n",
       "    </tr>\n",
       "    <tr>\n",
       "      <th>3</th>\n",
       "      <td>1</td>\n",
       "      <td>0</td>\n",
       "      <td>0</td>\n",
       "      <td>0</td>\n",
       "      <td>0</td>\n",
       "      <td>1</td>\n",
       "      <td>0</td>\n",
       "      <td>0</td>\n",
       "      <td>0</td>\n",
       "      <td>0</td>\n",
       "      <td>...</td>\n",
       "      <td>0.281143</td>\n",
       "      <td>0.748243</td>\n",
       "      <td>0.538694</td>\n",
       "      <td>0.54829</td>\n",
       "      <td>0.50420</td>\n",
       "      <td>0.51111</td>\n",
       "      <td>0.711942</td>\n",
       "      <td>0.698722</td>\n",
       "      <td>0.709578</td>\n",
       "      <td>0.776114</td>\n",
       "    </tr>\n",
       "    <tr>\n",
       "      <th>4</th>\n",
       "      <td>0</td>\n",
       "      <td>1</td>\n",
       "      <td>0</td>\n",
       "      <td>0</td>\n",
       "      <td>0</td>\n",
       "      <td>0</td>\n",
       "      <td>0</td>\n",
       "      <td>0</td>\n",
       "      <td>1</td>\n",
       "      <td>0</td>\n",
       "      <td>...</td>\n",
       "      <td>0.491114</td>\n",
       "      <td>0.321058</td>\n",
       "      <td>0.326430</td>\n",
       "      <td>0.31280</td>\n",
       "      <td>0.39648</td>\n",
       "      <td>0.38016</td>\n",
       "      <td>0.245410</td>\n",
       "      <td>0.241676</td>\n",
       "      <td>0.261150</td>\n",
       "      <td>0.342082</td>\n",
       "    </tr>\n",
       "  </tbody>\n",
       "</table>\n",
       "<p>5 rows × 130 columns</p>\n",
       "</div>"
      ],
      "text/plain": [
       "   cat1  cat2  cat3  cat4  cat5  cat6  cat7  cat8  cat9  cat10    ...     \\\n",
       "0     0     0     0     0     1     0     0     0     0      0    ...      \n",
       "1     1     0     0     0     0     1     0     0     0      0    ...      \n",
       "2     0     0     0     1     0     0     0     0     0      0    ...      \n",
       "3     1     0     0     0     0     1     0     0     0      0    ...      \n",
       "4     0     1     0     0     0     0     0     0     1      0    ...      \n",
       "\n",
       "      cont5     cont6     cont7    cont8    cont9   cont10    cont11  \\\n",
       "0  0.577339  0.669748  0.515940  0.55421  0.53774  0.47225  0.492200   \n",
       "1  0.281143  0.484775  0.698278  0.35533  0.40657  0.40666  0.468839   \n",
       "2  0.499798  0.350956  0.363768  0.58354  0.44352  0.39599  0.341813   \n",
       "3  0.281143  0.748243  0.538694  0.54829  0.50420  0.51111  0.711942   \n",
       "4  0.491114  0.321058  0.326430  0.31280  0.39648  0.38016  0.245410   \n",
       "\n",
       "     cont12    cont13    cont14  \n",
       "0  0.481306  0.756454  0.344502  \n",
       "1  0.458493  0.304350  0.470455  \n",
       "2  0.352251  0.339244  0.283969  \n",
       "3  0.698722  0.709578  0.776114  \n",
       "4  0.241676  0.261150  0.342082  \n",
       "\n",
       "[5 rows x 130 columns]"
      ]
     },
     "execution_count": 13,
     "metadata": {},
     "output_type": "execute_result"
    }
   ],
   "source": [
    "pml_train_c_X.head()"
   ]
  },
  {
   "cell_type": "code",
   "execution_count": 14,
   "metadata": {},
   "outputs": [
    {
     "data": {
      "text/plain": [
       "<matplotlib.axes._subplots.AxesSubplot at 0x1114d7a90>"
      ]
     },
     "execution_count": 14,
     "metadata": {},
     "output_type": "execute_result"
    },
    {
     "data": {
      "image/png": "[encoded data removed]",
      "text/plain": [
       "<matplotlib.figure.Figure at 0x1115c6b00>"
      ]
     },
     "metadata": {},
     "output_type": "display_data"
    }
   ],
   "source": [
    "#Generate a correlation matrix between features\n",
    "x_corr = pml_train_c_X.corr()\n",
    "mask = np.zeros_like(x_corr, dtype=np.bool)\n",
    "mask[np.triu_indices_from(mask)] = True\n",
    "f, ax = plt.subplots(figsize=(22, 18))\n",
    "cmap = sns.diverging_palette(220, 10, as_cmap=True)\n",
    "sns.heatmap(x_corr, mask=mask, vmax=1, cmap=cmap, center=0,\n",
    "            square=True, linewidths=.5)"
   ]
  },
  {
   "cell_type": "code",
   "execution_count": null,
   "metadata": {},
   "outputs": [],
   "source": []
  },
  {
   "cell_type": "markdown",
   "metadata": {},
   "source": [
    "## tree"
   ]
  },
  {
   "cell_type": "code",
   "execution_count": 15,
   "metadata": {},
   "outputs": [],
   "source": [
    "from sklearn.ensemble import RandomForestRegressor"
   ]
  },
  {
   "cell_type": "code",
   "execution_count": null,
   "metadata": {},
   "outputs": [],
   "source": [
    "regr = RandomForestRegressor(n_estimators=10,criterion = 'mae',\n",
    "                             max_leaf_nodes = 5, random_state = 2018)\n",
    "regr.fit(pml_train_c_X, pml_train_y)"
   ]
  },
  {
   "cell_type": "code",
   "execution_count": null,
   "metadata": {},
   "outputs": [],
   "source": [
    "regr.score(pml_train_c_X, pml_train_y)"
   ]
  },
  {
   "cell_type": "code",
   "execution_count": null,
   "metadata": {},
   "outputs": [],
   "source": []
  },
  {
   "cell_type": "code",
   "execution_count": 14,
   "metadata": {},
   "outputs": [],
   "source": [
    "from sklearn import tree"
   ]
  },
  {
   "cell_type": "code",
   "execution_count": 15,
   "metadata": {},
   "outputs": [],
   "source": [
    "dt_clf = tree.DecisionTreeRegressor()\n",
    "dt_clf = dt_clf.fit(pml_train_c_X, pml_train_y)"
   ]
  },
  {
   "cell_type": "code",
   "execution_count": 16,
   "metadata": {},
   "outputs": [
    {
     "data": {
      "text/plain": [
       "0.9999999902035116"
      ]
     },
     "execution_count": 16,
     "metadata": {},
     "output_type": "execute_result"
    }
   ],
   "source": [
    "dt_clf.score(pml_train_c_X, pml_train_y)"
   ]
  },
  {
   "cell_type": "code",
   "execution_count": 17,
   "metadata": {},
   "outputs": [
    {
     "ename": "NameError",
     "evalue": "name 'pml_test_c_X' is not defined",
     "output_type": "error",
     "traceback": [
      "\u001b[0;31m---------------------------------------------------------------------------\u001b[0m",
      "\u001b[0;31mNameError\u001b[0m                                 Traceback (most recent call last)",
      "\u001b[0;32m<ipython-input-17-12a36578c001>\u001b[0m in \u001b[0;36m<module>\u001b[0;34m()\u001b[0m\n\u001b[0;32m----> 1\u001b[0;31m \u001b[0mdt_ans\u001b[0m \u001b[0;34m=\u001b[0m \u001b[0mdt_clf\u001b[0m\u001b[0;34m.\u001b[0m\u001b[0mpredict\u001b[0m\u001b[0;34m(\u001b[0m\u001b[0mpml_test_c_X\u001b[0m\u001b[0;34m,\u001b[0m \u001b[0mpml_train_y\u001b[0m\u001b[0;34m)\u001b[0m\u001b[0;34m\u001b[0m\u001b[0m\n\u001b[0m",
      "\u001b[0;31mNameError\u001b[0m: name 'pml_test_c_X' is not defined"
     ]
    }
   ],
   "source": [
    "dt_ans = dt_clf.predict(pml_test_c_X, pml_train_y)"
   ]
  },
  {
   "cell_type": "code",
   "execution_count": null,
   "metadata": {},
   "outputs": [],
   "source": [
    "pd.DataFrame({'id':pml['id'], \n",
    "          'loss':dt_ans}).to_csv('./dt.csv',index = False)"
   ]
  },
  {
   "cell_type": "code",
   "execution_count": null,
   "metadata": {},
   "outputs": [],
   "source": []
  },
  {
   "cell_type": "code",
   "execution_count": null,
   "metadata": {},
   "outputs": [],
   "source": []
  },
  {
   "cell_type": "code",
   "execution_count": null,
   "metadata": {},
   "outputs": [],
   "source": []
  },
  {
   "cell_type": "code",
   "execution_count": null,
   "metadata": {},
   "outputs": [],
   "source": []
  },
  {
   "cell_type": "code",
   "execution_count": null,
   "metadata": {},
   "outputs": [],
   "source": []
  },
  {
   "cell_type": "code",
   "execution_count": null,
   "metadata": {},
   "outputs": [],
   "source": []
  },
  {
   "cell_type": "code",
   "execution_count": null,
   "metadata": {},
   "outputs": [],
   "source": []
  },
  {
   "cell_type": "code",
   "execution_count": null,
   "metadata": {},
   "outputs": [],
   "source": [
    "c = 'AB'"
   ]
  },
  {
   "cell_type": "code",
   "execution_count": null,
   "metadata": {},
   "outputs": [],
   "source": [
    "for a in reversed(c):\n",
    "    print(a)"
   ]
  },
  {
   "cell_type": "code",
   "execution_count": 30,
   "metadata": {},
   "outputs": [
    {
     "data": {
      "text/html": [
       "<div>\n",
       "<style scoped>\n",
       "    .dataframe tbody tr th:only-of-type {\n",
       "        vertical-align: middle;\n",
       "    }\n",
       "\n",
       "    .dataframe tbody tr th {\n",
       "        vertical-align: top;\n",
       "    }\n",
       "\n",
       "    .dataframe thead th {\n",
       "        text-align: right;\n",
       "    }\n",
       "</style>\n",
       "<table border=\"1\" class=\"dataframe\">\n",
       "  <thead>\n",
       "    <tr style=\"text-align: right;\">\n",
       "      <th></th>\n",
       "      <th>a</th>\n",
       "      <th>b</th>\n",
       "    </tr>\n",
       "  </thead>\n",
       "  <tbody>\n",
       "    <tr>\n",
       "      <th>0</th>\n",
       "      <td>A</td>\n",
       "      <td>DC</td>\n",
       "    </tr>\n",
       "    <tr>\n",
       "      <th>1</th>\n",
       "      <td>B</td>\n",
       "      <td>BD</td>\n",
       "    </tr>\n",
       "    <tr>\n",
       "      <th>2</th>\n",
       "      <td>C</td>\n",
       "      <td>BF</td>\n",
       "    </tr>\n",
       "    <tr>\n",
       "      <th>3</th>\n",
       "      <td>B</td>\n",
       "      <td>CC</td>\n",
       "    </tr>\n",
       "  </tbody>\n",
       "</table>\n",
       "</div>"
      ],
      "text/plain": [
       "   a   b\n",
       "0  A  DC\n",
       "1  B  BD\n",
       "2  C  BF\n",
       "3  B  CC"
      ]
     },
     "execution_count": 30,
     "metadata": {},
     "output_type": "execute_result"
    }
   ],
   "source": [
    "temp = pd.DataFrame({'a':['A','B','C','B'],\n",
    "             'b':['DC','BD','BF','CC']})\n",
    "temp"
   ]
  },
  {
   "cell_type": "code",
   "execution_count": 31,
   "metadata": {},
   "outputs": [],
   "source": [
    "def op(col):\n",
    "    return col.astype('category').cat.codes"
   ]
  },
  {
   "cell_type": "code",
   "execution_count": 39,
   "metadata": {},
   "outputs": [
    {
     "ename": "NameError",
     "evalue": "name 'LabelEncoder' is not defined",
     "output_type": "error",
     "traceback": [
      "\u001b[0;31m---------------------------------------------------------------------------\u001b[0m",
      "\u001b[0;31mNameError\u001b[0m                                 Traceback (most recent call last)",
      "\u001b[0;32m<ipython-input-39-f8de1d302492>\u001b[0m in \u001b[0;36m<module>\u001b[0;34m()\u001b[0m\n\u001b[1;32m      2\u001b[0m \u001b[0;31m# temp.apply(lambda x: x.astype('category', categories=uniques))\u001b[0m\u001b[0;34m\u001b[0m\u001b[0;34m\u001b[0m\u001b[0m\n\u001b[1;32m      3\u001b[0m \u001b[0;34m\u001b[0m\u001b[0m\n\u001b[0;32m----> 4\u001b[0;31m \u001b[0mle\u001b[0m \u001b[0;34m=\u001b[0m \u001b[0mLabelEncoder\u001b[0m\u001b[0;34m(\u001b[0m\u001b[0;34m)\u001b[0m\u001b[0;34m\u001b[0m\u001b[0m\n\u001b[0m\u001b[1;32m      5\u001b[0m \u001b[0mle\u001b[0m\u001b[0;34m.\u001b[0m\u001b[0mfit\u001b[0m\u001b[0;34m(\u001b[0m\u001b[0mtemp\u001b[0m\u001b[0;34m.\u001b[0m\u001b[0mvalues\u001b[0m\u001b[0;34m.\u001b[0m\u001b[0mflat\u001b[0m\u001b[0;34m)\u001b[0m\u001b[0;34m\u001b[0m\u001b[0m\n\u001b[1;32m      6\u001b[0m \u001b[0;34m\u001b[0m\u001b[0m\n",
      "\u001b[0;31mNameError\u001b[0m: name 'LabelEncoder' is not defined"
     ]
    }
   ],
   "source": [
    "# uniques = np.sort(pd.unique(temp.values.ravel()))\n",
    "# temp.apply(lambda x: x.astype('category', categories=uniques))\n",
    "\n",
    "le = LabelEncoder()\n",
    "le.fit(temp.values.flat)\n",
    "\n",
    "# Convert to digits.\n",
    "temp = temp.apply(le.transform)\n",
    "temp"
   ]
  },
  {
   "cell_type": "code",
   "execution_count": null,
   "metadata": {},
   "outputs": [],
   "source": []
  },
  {
   "cell_type": "code",
   "execution_count": null,
   "metadata": {},
   "outputs": [],
   "source": []
  },
  {
   "cell_type": "code",
   "execution_count": null,
   "metadata": {},
   "outputs": [],
   "source": []
  }
 ],
 "metadata": {
  "kernelspec": {
   "display_name": "Python 3",
   "language": "python",
   "name": "python3"
  },
  "language_info": {
   "codemirror_mode": {
    "name": "ipython",
    "version": 3
   },
   "file_extension": ".py",
   "mimetype": "text/x-python",
   "name": "python",
   "nbconvert_exporter": "python",
   "pygments_lexer": "ipython3",
   "version": "3.6.4"
  }
 },
 "nbformat": 4,
 "nbformat_minor": 2
}
